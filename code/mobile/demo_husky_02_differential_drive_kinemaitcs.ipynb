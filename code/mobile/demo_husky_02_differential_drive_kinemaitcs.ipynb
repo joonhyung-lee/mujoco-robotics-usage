{
 "cells": [
  {
   "cell_type": "markdown",
   "id": "605b549c",
   "metadata": {},
   "source": [
    "### Parse `Husky`"
   ]
  },
  {
   "cell_type": "code",
   "execution_count": 1,
   "id": "367a2c43",
   "metadata": {},
   "outputs": [
    {
     "name": "stdout",
     "output_type": "stream",
     "text": [
      "MuJoCo version:[2.3.7]\n"
     ]
    },
    {
     "name": "stderr",
     "output_type": "stream",
     "text": [
      "/home/rilab/.pyenv/versions/3.8.13/envs/llm/lib/python3.8/site-packages/scipy/__init__.py:146: UserWarning: A NumPy version >=1.16.5 and <1.23.0 is required for this version of SciPy (detected version 1.24.4\n",
      "  warnings.warn(f\"A NumPy version >={np_minversion} and <{np_maxversion}\"\n"
     ]
    }
   ],
   "source": [
    "import mujoco\n",
    "import numpy as np\n",
    "import matplotlib.pyplot as plt\n",
    "import sys\n",
    "sys.path.append('../../')\n",
    "from utils.mujoco_parser import MuJoCoParserClass\n",
    "from utils.util import r2rpy\n",
    "import math\n",
    "np.set_printoptions(precision=2,suppress=True,linewidth=100)\n",
    "plt.rc('xtick',labelsize=6); plt.rc('ytick',labelsize=6)\n",
    "%config InlineBackend.figure_format = 'retina'\n",
    "%matplotlib inline\n",
    "print (\"MuJoCo version:[%s]\"%(mujoco.__version__))"
   ]
  },
  {
   "cell_type": "markdown",
   "id": "4f777719",
   "metadata": {},
   "source": [
    "### Parse `scene_husky.xml`"
   ]
  },
  {
   "cell_type": "code",
   "execution_count": 2,
   "id": "4659562d",
   "metadata": {
    "scrolled": true
   },
   "outputs": [
    {
     "name": "stdout",
     "output_type": "stream",
     "text": [
      "dt:[0.0020] HZ:[500]\n",
      "n_dof (=nv):[10]\n",
      "n_geom:[10]\n",
      "geom_names:['floor', None, None, None, None, None, None, None, None, None]\n",
      "n_body:[6]\n",
      "body_names:['world', 'base_husky', 'front_left_wheel_link', 'front_right_wheel_link', 'rear_left_wheel_link', 'rear_right_wheel_link']\n",
      "n_joint:[5]\n",
      "joint_names:['base_husky_joint', 'front_left_wheel', 'front_right_wheel', 'rear_left_wheel', 'rear_right_wheel']\n",
      "joint_types:[0 3 3 3 3]\n",
      "joint_ranges:\n",
      "[[0. 0.]\n",
      " [0. 0.]\n",
      " [0. 0.]\n",
      " [0. 0.]\n",
      " [0. 0.]]\n",
      "n_rev_joint:[4]\n",
      "rev_joint_idxs:[1 2 3 4]\n",
      "rev_joint_names:['front_left_wheel', 'front_right_wheel', 'rear_left_wheel', 'rear_right_wheel']\n",
      "rev_joint_mins:[0. 0. 0. 0.]\n",
      "rev_joint_maxs:[0. 0. 0. 0.]\n",
      "rev_joint_ranges:[0. 0. 0. 0.]\n",
      "n_pri_joint:[0]\n",
      "pri_joint_idxs:[]\n",
      "pri_joint_names:[]\n",
      "pri_joint_mins:[]\n",
      "pri_joint_maxs:[]\n",
      "pri_joint_ranges:[]\n",
      "n_ctrl:[4]\n",
      "ctrl_names:['front_left_actuator', 'front_right_actuator', 'rear_left_actuator', 'rear_right_actuator']\n",
      "ctrl_joint_idxs:[7, 8, 9, 10]\n",
      "ctrl_joint_names:['front_left_wheel', 'front_right_wheel', 'rear_left_wheel', 'rear_right_wheel']\n",
      "ctrl_qvel_idxs:[6, 7, 8, 9]\n",
      "ctrl_ranges:\n",
      "[[-100.  100.]\n",
      " [-100.  100.]\n",
      " [-100.  100.]\n",
      " [-100.  100.]]\n",
      "n_sensor:[0]\n",
      "sensor_names:[]\n",
      "n_site:[0]\n",
      "site_names:[]\n",
      "[Husky] parsed.\n"
     ]
    }
   ],
   "source": [
    "xml_path = '../../asset/husky/scene_husky.xml'\n",
    "env = MuJoCoParserClass(name='Husky',rel_xml_path=xml_path,VERBOSE=True)\n",
    "print (\"[%s] parsed.\"%(env.name))"
   ]
  },
  {
   "cell_type": "markdown",
   "id": "5ee05448",
   "metadata": {},
   "source": [
    "### Render"
   ]
  },
  {
   "attachments": {},
   "cell_type": "markdown",
   "id": "43d69212",
   "metadata": {},
   "source": [
    "#### Constant `Linear, Angular` Velocity"
   ]
  },
  {
   "cell_type": "code",
   "execution_count": 12,
   "id": "dfedc033",
   "metadata": {
    "scrolled": true
   },
   "outputs": [
    {
     "name": "stdout",
     "output_type": "stream",
     "text": [
      "Pressed ESC\n",
      "Quitting.\n",
      "Time:[37.60]sec. Done.\n"
     ]
    }
   ],
   "source": [
    "env.init_viewer(viewer_title='Husky',viewer_width=1200,viewer_height=800,\n",
    "                viewer_hide_menus=True)\n",
    "env.update_viewer(azimuth=107.08,distance=2.5,elevation=-27,lookat=[0.4,0.3,0.2],\n",
    "                  VIS_TRANSPARENT=False,VIS_CONTACTPOINT=True,\n",
    "                  contactwidth=0.1,contactheight=0.1,contactrgba=np.array([1,0,0,1]),\n",
    "                  VIS_JOINT=True,jointlength=0.5,jointwidth=0.1,jointrgba=[0.2,0.6,0.8,0.6])\n",
    "\n",
    "# Change controller gain\n",
    "for ctrl_name in env.ctrl_names:\n",
    "    kv = 1.0\n",
    "    env.model.actuator(ctrl_name).gainprm[0] = kv\n",
    "    env.model.actuator(ctrl_name).biasprm[2] = -kv\n",
    "    \n",
    "husky_base_pos_list = []\n",
    "wheel_radius = 0.17775 / 2.0\n",
    "wheel_base = 0.2854 * 2\n",
    "xy_target = [3.0, -4.0]\n",
    "husky_vel = [0.0, 0.0]  # [m/s, rad/s]\n",
    "\n",
    "env.reset()\n",
    "\n",
    "while (env.get_sim_time() < 100.0) and env.is_viewer_alive():\n",
    "    # Linear and angular velocity\n",
    "    vx = 1.0\n",
    "    w = np.pi # np.pi  \n",
    "    wR = (2 * vx + w * wheel_base) / (2 * wheel_radius)\n",
    "    wL = (2 * vx - w * wheel_base) / (2 * wheel_radius)\n",
    "    vel_targets = np.array([wR, wL, wR, wL], dtype=np.float32)\n",
    "    env.step(ctrl=vel_targets, ctrl_idxs=[0,1,2,3])\n",
    "\n",
    "    # Do render\n",
    "    if env.loop_every(HZ=30) or (env.tick == 1):\n",
    "        # Update viewer information\n",
    "        p_base = env.get_p_body(body_name='base_husky')\n",
    "        # env.update_viewer(lookat=p_base,CALL_MUJOCO_FUNC=False)\n",
    "        # Render contact information\n",
    "        PLOT_CONTACT = True\n",
    "        if PLOT_CONTACT:\n",
    "            p_contacts,f_contacts,geom1s,geom2s,body1s,body2s = env.get_contact_info()\n",
    "            for (p_contact,f_contact,geom1,geom2) in zip(p_contacts,f_contacts,geom1s,geom2s):\n",
    "                f_norm = np.linalg.norm(f_contact)\n",
    "                f_uv = f_contact / (f_norm+1e-8)\n",
    "                f_len = 0.3 # f_norm*0.05\n",
    "                label = '' #'[%s]-[%s]'%(geom1,geom2)\n",
    "                # env.plot_arrow(p=p_contact,uv=f_uv,r_stem=0.01,len_arrow=f_len,rgba=[1,0,0,0.4],label='')\n",
    "                # env.plot_arrow(p=p_contact,uv=-f_uv,r_stem=0.01,len_arrow=f_len,rgba=[1,0,0,0.4],label='')\n",
    "                # env.plot_sphere(p=p_contact,r=0.0001,label=label)\n",
    "        env.plot_T(p=np.zeros(3),R=np.eye(3,3),PLOT_AXIS=True,axis_len=1.0,axis_width=0.01)\n",
    "        env.plot_body_T(body_name='base_husky',PLOT_AXIS=True,axis_len=0.1,axis_width=0.01)\n",
    "        env.plot_body_T(body_name='front_left_wheel_link',PLOT_AXIS=True,axis_len=0.1,axis_width=0.01)\n",
    "        env.plot_body_T(body_name='front_right_wheel_link',PLOT_AXIS=True,axis_len=0.1,axis_width=0.01)\n",
    "        env.plot_body_T(body_name='rear_left_wheel_link',PLOT_AXIS=True,axis_len=0.1,axis_width=0.01)\n",
    "        env.plot_body_T(body_name='rear_right_wheel_link',PLOT_AXIS=True,axis_len=0.1,axis_width=0.01)\n",
    "        env.plot_sphere(p=[xy_target[0], xy_target[1], 0.5],r=0.1,rgba=[1,1,1,1],label='')\n",
    "        env.plot_T(p=p_base+np.array([0,0,0.5]),R=np.eye(3,3),\n",
    "                   PLOT_AXIS=False,label='[%.2f]sec'%(env.get_sim_time()))\n",
    "        \n",
    "        husky_base_pos_list.append(env.get_p_body('base_husky'))\n",
    "        for p in np.array(husky_base_pos_list)[::5]:\n",
    "            env.plot_sphere(p=p+np.array([0,0,0.3]), r=0.01) \n",
    "        env.render()\n",
    "\n",
    "    # Plot\n",
    "    # if env.loop_every(HZ=0.1) or (env.tick == 1):\n",
    "    #     scene_img = env.grab_image(resize_rate=0.5)\n",
    "    #     plt.figure(figsize=(5,4)); plt.imshow(scene_img)\n",
    "    #     plt.title(\"Tick:[%d] Time:[%.2f]sec\"%(env.tick,env.get_sim_time()),fontsize=9)\n",
    "    #     plt.show()\n",
    "    \n",
    "    # # Print\n",
    "    # if env.loop_every(HZ=10) or (env.tick == 1):\n",
    "    #     curr_ctrl = env.data.ctrl\n",
    "    #     qpos_ctrl = env.data.qpos[env.ctrl_qpos_idxs]\n",
    "    #     qvel_ctrl = env.data.qvel[env.ctrl_qvel_idxs]\n",
    "    #     # print (\"time:[%.2f]sec, pose:[%s], qvel_ctrl:%s, curr_ctrl:%s\"%\n",
    "    #     #        (env.get_sim_time(),env.get_p_body('base_husky'),qvel_ctrl,curr_ctrl))\n",
    "        \n",
    "# Close viewer\n",
    "env.close_viewer()\n",
    "print (\"Time:[%.2f]sec. Done.\"%(env.get_sim_time()))"
   ]
  },
  {
   "attachments": {},
   "cell_type": "markdown",
   "id": "3090fe34",
   "metadata": {},
   "source": [
    "#### Target position tracking"
   ]
  },
  {
   "cell_type": "code",
   "execution_count": 14,
   "id": "8c051c94",
   "metadata": {},
   "outputs": [
    {
     "name": "stdout",
     "output_type": "stream",
     "text": [
      "Pressed ESC\n",
      "Quitting.\n",
      "Time:[22.18]sec. Done.\n"
     ]
    }
   ],
   "source": [
    "env.init_viewer(viewer_title='Husky',viewer_width=1200,viewer_height=800,\n",
    "                viewer_hide_menus=True)\n",
    "env.update_viewer(azimuth=107.08,distance=2.5,elevation=-27,lookat=[0.4,0.3,0.2],\n",
    "                  VIS_TRANSPARENT=False,VIS_CONTACTPOINT=True,\n",
    "                  contactwidth=0.1,contactheight=0.1,contactrgba=np.array([1,0,0,1]),\n",
    "                  VIS_JOINT=True,jointlength=0.5,jointwidth=0.1,jointrgba=[0.2,0.6,0.8,0.6])\n",
    "\n",
    "husky_base_pos_list = []\n",
    "wheel_radius = 0.17775 / 2.0\n",
    "wheel_base = 0.2854 * 2\n",
    "# Define the velocity gains\n",
    "v_max = 5.0  # maximum linear velocity, in m/s\n",
    "w_max = 50.0  # maximum angular velocity, in rad/s\n",
    "\n",
    "p_target = np.array([5, -1.5, 0.5])\n",
    "\n",
    "\n",
    "vx_lst, w_lst = [], []\n",
    "env.reset()\n",
    "while (env.get_sim_time() < 100.0) and env.is_viewer_alive():\n",
    "\n",
    "    # Get the current position of the vehicle from the simulation\n",
    "    p_base = env.get_p_body('base_husky')\n",
    "    d_pos = p_target[:2] - p_base[:2]\n",
    "    # Calculate the distance to the target point\n",
    "    distance = np.linalg.norm(d_pos)\n",
    "    if distance < 0.1:\n",
    "        break\n",
    "\n",
    "    R_base = r2rpy(env.get_R_body('base_husky'))\n",
    "    heading = np.arctan2(d_pos[1], d_pos[0]) - R_base[2]\n",
    "    heading = np.mod(heading + np.pi, 2*np.pi) - np.pi\n",
    "    \n",
    "    # compute desired linear and angular velocities\n",
    "    linear_vel = v_max * np.tanh(distance)\n",
    "    angular_vel = w_max * np.tanh(heading)\n",
    "    \n",
    "    # compute wheel speeds for forward motion\n",
    "    vl = linear_vel - (angular_vel * wheel_base / 2)\n",
    "    vr = linear_vel + (angular_vel * wheel_base / 2)\n",
    "\n",
    "    ctrl = [vl,vr,vl,vr]\n",
    "    # Update the simulation state\n",
    "    env.step(ctrl, ctrl_idxs=[0,1,2,3])\n",
    "\n",
    "    # Do render\n",
    "    if env.loop_every(HZ=30) or (env.tick == 1):\n",
    "        # Update viewer information\n",
    "\n",
    "        env.plot_sphere(p=p_target,r=0.1,rgba=[1,1,1,1],label='')\n",
    "        env.plot_T(p=p_base+np.array([0,0,0.5]),R=np.eye(3,3),\n",
    "                   PLOT_AXIS=False,label='[%.2f]sec'%(env.get_sim_time()))\n",
    "        \n",
    "        husky_base_pos_list.append(env.get_p_body('base_husky'))\n",
    "        for p in np.array(husky_base_pos_list)[::5]:\n",
    "            env.plot_sphere(p=p+np.array([0,0,0.3]), r=0.01) \n",
    "        env.render()\n",
    "    \n",
    "# Close viewer\n",
    "env.close_viewer()\n",
    "print (\"Time:[%.2f]sec. Done.\"%(env.get_sim_time()))\n",
    "\n"
   ]
  },
  {
   "attachments": {},
   "cell_type": "markdown",
   "id": "c398ef85",
   "metadata": {},
   "source": [
    "### Path following: just update the index of reference path"
   ]
  },
  {
   "cell_type": "code",
   "execution_count": 17,
   "id": "1a048afc",
   "metadata": {},
   "outputs": [
    {
     "name": "stdout",
     "output_type": "stream",
     "text": [
      "Pressed ESC\n",
      "Quitting.\n",
      "Time:[33.73]sec. Done.\n"
     ]
    }
   ],
   "source": [
    "env.init_viewer(viewer_title='Husky',viewer_width=1200,viewer_height=800,\n",
    "                viewer_hide_menus=True)\n",
    "env.update_viewer(azimuth=107.08,distance=2.5,elevation=-27,lookat=[0.4,0.3,0.2],\n",
    "                  VIS_TRANSPARENT=False,VIS_CONTACTPOINT=True,\n",
    "                  contactwidth=0.1,contactheight=0.1,contactrgba=np.array([1,0,0,1]),\n",
    "                  VIS_JOINT=True,jointlength=0.5,jointwidth=0.1,jointrgba=[0.2,0.6,0.8,0.6])\n",
    "\n",
    "husky_base_pos_list = []\n",
    "wheel_radius = 0.17775 / 2.0\n",
    "wheel_base = 0.2854 * 2\n",
    "# Define the velocity gains\n",
    "v_max = 5.0  # maximum linear velocity, in m/s\n",
    "w_max = 50.0  # maximum angular velocity, in rad/s\n",
    "\n",
    "# Define the target path\n",
    "path_x = np.arange(2, 50, 0.5)\n",
    "path_y = [math.cos(ix / 5.0) * ix / 2.0 for ix in path_x]\n",
    "path_z = [0.0 for ix in path_x]\n",
    "path = np.array([path_x, path_y, path_z]).T\n",
    "p_target = path[0]\n",
    "path_idx = 0\n",
    "\n",
    "vx_lst, w_lst = [], []\n",
    "env.reset()\n",
    "while (env.get_sim_time() < 100.0) and env.is_viewer_alive():\n",
    "\n",
    "    # Get the current position of the vehicle from the simulation\n",
    "    p_base = env.get_p_body('base_husky')\n",
    "    husky_base_pos_list.append(p_base)\n",
    "    d_pos = p_target[:2] - p_base[:2]\n",
    "    # Calculate the distance to the target point\n",
    "    distance = np.linalg.norm(d_pos)\n",
    "\n",
    "    if distance < 0.3:\n",
    "        path_idx += 1\n",
    "        p_target = path[path_idx]\n",
    "\n",
    "    R_base = r2rpy(env.get_R_body('base_husky'))\n",
    "    heading = np.arctan2(d_pos[1], d_pos[0]) - R_base[2]\n",
    "    heading = np.mod(heading + np.pi, 2*np.pi) - np.pi\n",
    "    \n",
    "    # compute desired linear and angular velocities\n",
    "    linear_vel = v_max * np.tanh(distance)\n",
    "    angular_vel = w_max * np.tanh(heading)\n",
    "    \n",
    "    # compute wheel speeds for forward motion\n",
    "    vl = linear_vel - (angular_vel * wheel_base / 2)\n",
    "    vr = linear_vel + (angular_vel * wheel_base / 2)\n",
    "\n",
    "    ctrl = [vl,vr,vl,vr]\n",
    "    # Update the simulation state\n",
    "    env.step(ctrl, ctrl_idxs=[0,1,2,3])\n",
    "\n",
    "    # Do render\n",
    "    if env.loop_every(HZ=30) or (env.tick == 1):\n",
    "        # Update viewer information\n",
    "        env.plot_T(p=p_base+np.array([0,0,0.5]),R=np.eye(3,3),\n",
    "                   PLOT_AXIS=False,label='[%.2f]sec'%(env.get_sim_time()))\n",
    "        p_base_marker = np.array([p_base[0],p_base[1],0.4])\n",
    "        p_target_marker = np.array([p_target[0],p_target[1],0.4])\n",
    "        for p in path: env.plot_sphere(p=np.array([p[0],p[1],0.4]),r=0.05,rgba=[0.05,0.05,0.05,1])\n",
    "        for p in np.array(husky_base_pos_list)[::70]:\n",
    "            env.plot_sphere(p=p+np.array([0,0,0.3]), r=0.01) \n",
    "        env.plot_sphere(p=p_base_marker,r=0.05,rgba=[0.05,0.95,0.05,1], label='Current Base position')\n",
    "        env.plot_sphere(p=p_target_marker,r=0.05,rgba=[0.95,0.05,0.05,1], label='Current Target position')\n",
    "        env.render()\n",
    "    \n",
    "# Close viewer\n",
    "env.close_viewer()\n",
    "print (\"Time:[%.2f]sec. Done.\"%(env.get_sim_time()))"
   ]
  },
  {
   "cell_type": "code",
   "execution_count": null,
   "id": "af5cfa83",
   "metadata": {},
   "outputs": [],
   "source": []
  }
 ],
 "metadata": {
  "kernelspec": {
   "display_name": "Python 3 (ipykernel)",
   "language": "python",
   "name": "python3"
  },
  "language_info": {
   "codemirror_mode": {
    "name": "ipython",
    "version": 3
   },
   "file_extension": ".py",
   "mimetype": "text/x-python",
   "name": "python",
   "nbconvert_exporter": "python",
   "pygments_lexer": "ipython3",
   "version": "3.8.13"
  }
 },
 "nbformat": 4,
 "nbformat_minor": 5
}
