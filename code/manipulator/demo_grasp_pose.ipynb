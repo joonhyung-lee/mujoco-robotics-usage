{
 "cells": [
  {
   "cell_type": "markdown",
   "metadata": {},
   "source": [
    "### Use `RGBD` camera"
   ]
  },
  {
   "cell_type": "code",
   "execution_count": 2,
   "metadata": {},
   "outputs": [
    {
     "name": "stdout",
     "output_type": "stream",
     "text": [
      "MuJoCo version:[2.3.4]\n"
     ]
    }
   ],
   "source": [
    "import mujoco,cv2,pyvista\n",
    "import numpy as np\n",
    "import matplotlib.pyplot as plt\n",
    "# from pyntcloud import PyntCloud\n",
    "import sys\n",
    "sys.path.append('../../')\n",
    "from utils.mujoco_parser import MuJoCoParserClass\n",
    "from utils.util import sample_xyzs,rpy2r,r2rpy,compute_view_params,get_interp_const_vel_traj\n",
    "np.set_printoptions(precision=2,suppress=True,linewidth=100)\n",
    "plt.rc('xtick',labelsize=6); plt.rc('ytick',labelsize=6)\n",
    "%config InlineBackend.figure_format = 'retina'\n",
    "%matplotlib inline\n",
    "print (\"MuJoCo version:[%s]\"%(mujoco.__version__))"
   ]
  },
  {
   "cell_type": "markdown",
   "metadata": {},
   "source": [
    "### Parse `UR5e` with `RG2` gripper"
   ]
  },
  {
   "cell_type": "code",
   "execution_count": 3,
   "metadata": {},
   "outputs": [
    {
     "name": "stdout",
     "output_type": "stream",
     "text": [
      "dt:[0.0020] HZ:[500]\n",
      "n_dof (=nv):[60]\n",
      "n_geom:[62]\n",
      "geom_names:['floor', None, None, None, None, None, None, None, None, None, None, None, None, None, None, None, None, None, None, None, None, None, None, None, None, None, None, None, None, None, None, None, None, None, None, None, None, None, None, None, None, None, None, None, None, None, None, None, None, None, 'front_object_table', 'right_object_table', 'left_object_table', 'base_table', 'obj_cylinder_01', 'obj_cylinder_02', 'obj_cylinder_03', 'obj_cylinder_04', 'obj_cylinder_05', 'obj_cylinder_06', 'obj_cylinder_07', 'obj_cylinder_08']\n",
      "n_body:[31]\n",
      "body_names:['world', 'base', 'shoulder_link', 'upper_arm_link', 'forearm_link', 'wrist_1_link', 'wrist_2_link', 'wrist_3_link', 'tcp_link', 'camera_mount', 'd435i', 'rg2_gripper_base_link', 'camera_center', 'rg2_gripper_finger1_finger_link', 'rg2_gripper_finger1_inner_knuckle_link', 'rg2_gripper_finger1_finger_tip_link', 'rg2_gripper_finger2_finger_link', 'rg2_gripper_finger2_inner_knuckle_link', 'rg2_gripper_finger2_finger_tip_link', 'front_object_table', 'right_object_table', 'left_object_table', 'base_table', 'obj_cylinder_01', 'obj_cylinder_02', 'obj_cylinder_03', 'obj_cylinder_04', 'obj_cylinder_05', 'obj_cylinder_06', 'obj_cylinder_07', 'obj_cylinder_08']\n",
      "n_joint:[20]\n",
      "joint_names:['shoulder_pan_joint', 'shoulder_lift_joint', 'elbow_joint', 'wrist_1_joint', 'wrist_2_joint', 'wrist_3_joint', 'gripper_finger1_joint', 'gripper_finger1_inner_knuckle_joint', 'gripper_finger1_finger_tip_joint', 'gripper_finger2_joint', 'gripper_finger2_inner_knuckle_joint', 'gripper_finger2_finger_tip_joint', None, None, None, None, None, None, None, None]\n",
      "joint_types:[3 3 3 3 3 3 3 3 3 3 3 3 0 0 0 0 0 0 0 0]\n",
      "joint_ranges:\n",
      "[[-3.14  3.14]\n",
      " [-3.14  3.14]\n",
      " [-3.14  3.14]\n",
      " [-3.14  3.14]\n",
      " [-3.14  3.14]\n",
      " [-3.14  3.14]\n",
      " [-1.    0.  ]\n",
      " [-1.    0.  ]\n",
      " [-1.    1.  ]\n",
      " [ 0.    1.  ]\n",
      " [ 0.    1.  ]\n",
      " [-1.    1.  ]\n",
      " [-3.14  3.14]\n",
      " [-3.14  3.14]\n",
      " [-3.14  3.14]\n",
      " [-3.14  3.14]\n",
      " [-3.14  3.14]\n",
      " [-3.14  3.14]\n",
      " [-3.14  3.14]\n",
      " [-3.14  3.14]]\n",
      "n_rev_joint:[12]\n",
      "rev_joint_idxs:[ 0  1  2  3  4  5  6  7  8  9 10 11]\n",
      "rev_joint_names:['shoulder_pan_joint', 'shoulder_lift_joint', 'elbow_joint', 'wrist_1_joint', 'wrist_2_joint', 'wrist_3_joint', 'gripper_finger1_joint', 'gripper_finger1_inner_knuckle_joint', 'gripper_finger1_finger_tip_joint', 'gripper_finger2_joint', 'gripper_finger2_inner_knuckle_joint', 'gripper_finger2_finger_tip_joint']\n",
      "rev_joint_mins:[-3.14 -3.14 -3.14 -3.14 -3.14 -3.14 -1.   -1.   -1.    0.    0.   -1.  ]\n",
      "rev_joint_maxs:[3.14 3.14 3.14 3.14 3.14 3.14 0.   0.   1.   1.   1.   1.  ]\n",
      "rev_joint_ranges:[6.28 6.28 6.28 6.28 6.28 6.28 1.   1.   2.   1.   1.   2.  ]\n",
      "n_pri_joint:[0]\n",
      "pri_joint_idxs:[]\n",
      "pri_joint_names:[]\n",
      "pri_joint_mins:[]\n",
      "pri_joint_maxs:[]\n",
      "pri_joint_ranges:[]\n",
      "n_ctrl:[7]\n",
      "ctrl_names:['shoulder_pan', 'shoulder_lift', 'elbow', 'wrist_1', 'wrist_2', 'wrist_3', 'gripper']\n",
      "ctrl_joint_idxs:[0, 1, 2, 3, 4, 5, 9]\n",
      "ctrl_joint_names:['shoulder_pan_joint', 'shoulder_lift_joint', 'elbow_joint', 'wrist_1_joint', 'wrist_2_joint', 'wrist_3_joint', 'gripper_finger2_joint']\n",
      "ctrl_qvel_idxs:[0, 1, 2, 3, 4, 5, 9]\n",
      "ctrl_ranges:\n",
      "[[-3.14  3.14]\n",
      " [-3.14  3.14]\n",
      " [-3.14  3.14]\n",
      " [-3.14  3.14]\n",
      " [-3.14  3.14]\n",
      " [-3.14  3.14]\n",
      " [ 0.    1.  ]]\n",
      "n_sensor:[0]\n",
      "sensor_names:[]\n",
      "n_site:[1]\n",
      "site_names:['attachment_site']\n",
      "obj_cylinder_01: [0.84 0.13 0.81]\n",
      "obj_cylinder_02: [0.81 0.04 0.81]\n",
      "obj_cylinder_03: [ 0.84 -0.11  0.81]\n",
      "Ready.\n"
     ]
    }
   ],
   "source": [
    "xml_path = '../../asset/ur5e/scene_ur5e_rg2_d435i_obj_realworld.xml'\n",
    "# xml_path = '../../asset/ur5e/scene_ur5e_rg2_d435i_vbm.xml'\n",
    "env = MuJoCoParserClass(name='UR5e with RG2 gripper',rel_xml_path=xml_path,VERBOSE=True)\n",
    "\n",
    "obj_cylinder_names = [body_name for body_name in env.body_names\n",
    "             if body_name is not None and (body_name.startswith(\"obj_cylinder\"))]\n",
    "obj_box_names = [body_name for body_name in env.body_names\n",
    "                if body_name is not None and (body_name.startswith(\"obj_box\"))]\n",
    "obj_glass_names = [body_name for body_name in env.body_names\n",
    "                if body_name is not None and (body_name.startswith(\"obj_wine\"))]\n",
    "\n",
    "n_cylinder_obj = 3 # len(obj_cylinder_names)\n",
    "n_box_obj = 3 # len(obj_box_names)\n",
    "n_glass_obj = 3 # len(obj_glass_names)\n",
    "\n",
    "# Place objects\n",
    "env.place_objects(n_obj=3, obj_names=obj_cylinder_names, x_range=[0.75, 0.85], y_range=[-0.15, 0.15], COLORS=True, VERBOSE=True)\n",
    "# env.place_objects(n_obj=3, obj_names=obj_box_names, COLORS=True, VERBOSE=True) \n",
    "env.place_objects(n_obj=3, obj_names=obj_glass_names, COLORS=False, VERBOSE=True)\n",
    "\n",
    "# Move tables and robot base\n",
    "env.model.body('base_table').pos = np.array([0,0,0])\n",
    "env.model.body('front_object_table').pos = np.array([0.38+0.6,0,0])\n",
    "env.model.body('right_object_table').pos = np.array([-0.05,-0.80,0])\n",
    "env.model.body('left_object_table').pos = np.array([-0.05,0.80,0])\n",
    "env.model.body('base').pos = np.array([0.18,0,0.79])\n",
    "\n",
    "\n",
    "print (\"Ready.\")"
   ]
  },
  {
   "attachments": {},
   "cell_type": "markdown",
   "metadata": {},
   "source": [
    "### Manually specify Grasp-pose"
   ]
  },
  {
   "cell_type": "code",
   "execution_count": 4,
   "metadata": {},
   "outputs": [
    {
     "data": {
      "text/plain": [
       "array([-3.14, -3.14, -3.14, -3.14, -3.14, -3.14])"
      ]
     },
     "execution_count": 4,
     "metadata": {},
     "output_type": "execute_result"
    }
   ],
   "source": [
    "env.joint_ranges[env.idxs_forward,0]"
   ]
  },
  {
   "attachments": {},
   "cell_type": "markdown",
   "metadata": {},
   "source": [
    "### Get grasp pose from Primitive grasp poses"
   ]
  },
  {
   "cell_type": "code",
   "execution_count": 5,
   "metadata": {},
   "outputs": [],
   "source": [
    "from utils.util import pr2t\n",
    "\n",
    "def softmax(x):\n",
    "    # Subtract max(x) to compute the softmax in a numerically stable way\n",
    "    e_x = np.exp(x - np.max(x))\n",
    "    return e_x / e_x.sum()\n",
    "\n",
    "def get_grasp_pose_primitive(obj_name, grasp_pose=None, dist_orientation=\"geodesic\"):\n",
    "    tcp_position = env.get_p_body('tcp_link')\n",
    "    tcp_orientation = rpy2r(np.radians([0,0,0])) @ rpy2r(np.radians([-180,0,90]))\n",
    "    grasp_obj_position = env.get_p_body(obj_name)\n",
    "    grasp_obj_orientation = env.get_R_body(obj_name)\n",
    "    if grasp_pose == \"upright\":\n",
    "        grasp_obj_position[2] += 0.08\n",
    "        grasp_obj_orientation = grasp_obj_orientation @ rpy2r(np.radians([-90,0,90]))\n",
    "    elif grasp_pose == \"right\":\n",
    "        grasp_obj_position[1] += 0.03\n",
    "        grasp_obj_position[2] += 0.10\n",
    "        grasp_obj_orientation = grasp_obj_orientation @ rpy2r(np.radians([-180,0,180]))\n",
    "    elif grasp_pose == \"left\":\n",
    "        grasp_obj_position[1] += 0.03\n",
    "        grasp_obj_position[2] += 0.07\n",
    "        grasp_obj_orientation = grasp_obj_orientation @ rpy2r(np.radians([-180,0,0]))\n",
    "    elif grasp_pose == \"forward\":\n",
    "        grasp_obj_position[0] += 0.015\n",
    "        grasp_obj_position[2] += 0.05\n",
    "        grasp_obj_orientation = grasp_obj_orientation @ rpy2r(np.radians([-180,0,90]))\n",
    "    elif grasp_pose == \"side\":\n",
    "        rand_position = np.random.uniform(-0.1, 0.1)\n",
    "        rand_orientation = (rand_position + 0.10) * 180 / 0.2\n",
    "        grasp_obj_position[1] -= rand_position\n",
    "        grasp_obj_position[2] += 0.07\n",
    "        grasp_obj_orientation = grasp_obj_orientation @ rpy2r(np.radians([-180,0,rand_orientation]))\n",
    "    else:   # Randomly sample grasp pose based on distance [Euclidean + Orientation]\n",
    "        grasp_pose_primitive = [\"upright\", \"right\", \"left\", \"side\", \"forward\"]\n",
    "        grasp_obj_positions = []\n",
    "        grasp_obj_orientations = []\n",
    "        grasp_orientation_dists = []\n",
    "        for grasp_pose_prim in grasp_pose_primitive:\n",
    "            grasp_obj_pose = get_grasp_pose_primitive(obj_name, grasp_pose_prim)\n",
    "            grasp_obj_positions.append(grasp_obj_pose[:3, 3])\n",
    "            grasp_obj_orientations.append(grasp_obj_pose[:3, :3])\n",
    "        grasp_dist = grasp_obj_positions - tcp_position\n",
    "        # Calculate distances between orientations\n",
    "        for grasp_obj_orientation_ in grasp_obj_orientations:\n",
    "            if dist_orientation == \"geodesic\":\n",
    "                trace_product = np.trace(np.dot(tcp_orientation.T, grasp_obj_orientation_))\n",
    "                grasp_orientation_dist = np.arccos((trace_product - 1) / 2)\n",
    "            elif dist_orientation == \"frobenius\":\n",
    "                grasp_orientation_dist = np.linalg.norm(tcp_orientation - grasp_obj_orientation_, 'fro')\n",
    "            grasp_orientation_dists.append(grasp_orientation_dist)\n",
    "        grasp_orientation_dists = np.array(grasp_orientation_dists)\n",
    "        grasp_dist = np.linalg.norm(grasp_dist, axis=1)\n",
    "        grasp_weight = 1 / (grasp_dist + grasp_orientation_dists)\n",
    "        grasp_pose = np.random.choice(grasp_pose_primitive, p=grasp_weight / np.sum(grasp_weight))\n",
    "        print(f\"grasp_pose: {grasp_pose}, grasp_weight: {grasp_weight}\")\n",
    "        grasp_obj_pose = get_grasp_pose_primitive(obj_name, grasp_pose)\n",
    "        return grasp_obj_pose\n",
    "\n",
    "    grasp_obj_pose = pr2t(grasp_obj_position, grasp_obj_orientation)\n",
    "\n",
    "    return grasp_obj_pose"
   ]
  },
  {
   "cell_type": "code",
   "execution_count": 6,
   "metadata": {},
   "outputs": [
    {
     "name": "stdout",
     "output_type": "stream",
     "text": [
      "Solved joint q values: [-0.27 -1.07  2.26 -1.19  1.3  -0.  ]\n",
      "Done.\n",
      "Joint trajectory ready. duration:[5.86]sec\n"
     ]
    }
   ],
   "source": [
    "env.init_viewer(viewer_title='UR5e with RG2 gripper',viewer_width=1200,viewer_height=800,\n",
    "                viewer_hide_menus=True)\n",
    "env.update_viewer(azimuth=0.0,distance=3.5,elevation=-60,lookat=[0.4,0.05,0.36],\n",
    "                  VIS_TRANSPARENT=False,VIS_CONTACTPOINT=True,\n",
    "                  contactwidth=0.05,contactheight=0.05,contactrgba=np.array([1,0,0,1]),\n",
    "                  VIS_JOINT=True,jointlength=0.5,jointwidth=0.1,jointrgba=[0.2,0.6,0.8,0.6])\n",
    "env.reset()\n",
    "\n",
    "grasp_obj_pose = get_grasp_pose_primitive(obj_name=\"obj_cylinder_02\", grasp_pose=\"forward\", dist_orientation=\"geodesic\")\n",
    "init_ur_q = np.array([np.deg2rad(-90), np.deg2rad(-130), np.deg2rad(120), np.deg2rad(100), np.deg2rad(45), np.deg2rad(-90)])\n",
    "q_init_upright = np.array([0,-np.pi/2,0,0,np.pi/2,0])\n",
    "\n",
    "# minus 0.05 to avoid collision direction of the grasp orientation\n",
    "pre_grasp_obj_pose = grasp_obj_pose.copy()\n",
    "unit_vec_y = pre_grasp_obj_pose[:3,1] / np.linalg.norm(pre_grasp_obj_pose[:3,1])\n",
    "unit_vec_z = pre_grasp_obj_pose[:3,2] / np.linalg.norm(pre_grasp_obj_pose[:3,2])\n",
    "pre_grasp_obj_pose[:3,3] = pre_grasp_obj_pose[:3,3] - 0.12 * unit_vec_y - 0.10 * unit_vec_z\n",
    "\n",
    "q_ik_pregrasp = env.solve_ik_repel(\n",
    "    body_name='tcp_link',p_trgt=pre_grasp_obj_pose[:3,3],R_trgt=pre_grasp_obj_pose[:3,:3],\n",
    "    IK_P=True,IK_R=True, q_init=q_init_upright,idxs_forward=env.idxs_forward, idxs_jacobian=env.idxs_jacobian,\n",
    "    RESET=False, DO_RENDER=True, th=1, err_th=1e-3, stepsize=1.0, w_weight=0.3, render_every=1.0, eps = 0.3, repulse = 15, VERBOSE=False)\n",
    "\n",
    "q_ik = env.solve_ik_repel(\n",
    "    body_name='tcp_link',p_trgt=grasp_obj_pose[:3,3],R_trgt=grasp_obj_pose[:3,:3],\n",
    "    IK_P=True,IK_R=True, q_init=q_ik_pregrasp,idxs_forward=env.idxs_forward, idxs_jacobian=env.idxs_jacobian,\n",
    "    RESET=False, DO_RENDER=True, th=1, err_th=1e-3, stepsize=1.0, w_weight=0.3, render_every=1.0, eps = 0.3, repulse = 15, VERBOSE=False)\n",
    "\n",
    "print(f\"Solved joint q values: {q_ik}\")\n",
    "# Close viewer\n",
    "env.close_viewer()\n",
    "print (\"Done.\")\n",
    "\n",
    "q_init_upright = np.array([0,-np.pi/2,0,0,np.pi/2,0])\n",
    "times, q_traj = get_interp_const_vel_traj(np.vstack([q_init_upright,q_ik_pregrasp, q_ik]), vel=np.radians(30), HZ=env.HZ)\n",
    "print (\"Joint trajectory ready. duration:[%.2f]sec\"%(times[-1]))"
   ]
  },
  {
   "attachments": {},
   "cell_type": "markdown",
   "metadata": {},
   "source": [
    "### Execute it !"
   ]
  },
  {
   "cell_type": "code",
   "execution_count": 43,
   "metadata": {},
   "outputs": [
    {
     "name": "stdout",
     "output_type": "stream",
     "text": [
      "Pressed ESC\n",
      "Quitting.\n",
      "Done. Tick:[427] Time:[0.85]sec\n"
     ]
    }
   ],
   "source": [
    "# Init viewer\n",
    "env.init_viewer(viewer_title='UR5e with RG2 gripper',viewer_width=1200,viewer_height=800,\n",
    "                viewer_hide_menus=True)\n",
    "env.update_viewer(azimuth=66.08,distance=3.0,elevation=-50,lookat=[0.4,0.18,0.71],\n",
    "                  VIS_TRANSPARENT=False,VIS_CONTACTPOINT=False,\n",
    "                  contactwidth=0.05,contactheight=0.05,contactrgba=np.array([1,0,0,1]),\n",
    "                  VIS_JOINT=True,jointlength=0.25,jointwidth=0.05,jointrgba=[0.2,0.6,0.8,0.6])\n",
    "\n",
    "pcd_tick = 0\n",
    "\n",
    "# Reset\n",
    "env.reset()\n",
    "q_init_upright = np.array([0,-np.pi/2,0,0,np.pi/2,0])\n",
    "env.forward(q=q_init_upright, joint_idxs=env.idxs_forward)\n",
    "tick,max_sec = 0,1000\n",
    "while env.get_sim_time() <= max_sec:\n",
    "    # q = q_traj[tick, :]\n",
    "    # Step\n",
    "    if np.linalg.norm(env.get_p_body('tcp_link')-grasp_obj_pose[:3,3]) < 0.012:\n",
    "        q = np.append(q_traj[tick, :],0.0) # close gripper\n",
    "    else:\n",
    "        q = np.append(q_traj[tick, :],1.0) # open gripper\n",
    "    env.step(ctrl=q,ctrl_idxs=[0,1,2,3,4,5,6])\n",
    "\n",
    "    tick = min(tick + 1,q_traj.shape[0]-1)\n",
    "    if not env.is_viewer_alive(): break\n",
    "        \n",
    "    # Render\n",
    "    if env.loop_every(HZ=20):\n",
    "        # Compute some poses\n",
    "        p_tcp,R_tcp = env.get_pR_body(body_name='tcp_link')\n",
    "        p_cam,R_cam = env.get_pR_body(body_name='camera_center')\n",
    "        p_base,R_base = env.get_pR_body(body_name='base')\n",
    "        # Get PCD from a specific view\n",
    "        p_ego  = p_cam\n",
    "        p_trgt = p_cam + R_cam[:,2]\n",
    "        rgb_img,depth_img,pcd,xyz_img = env.get_egocentric_rgb_depth_pcd(\n",
    "            p_ego=p_ego,p_trgt=p_trgt,rsz_rate=40,fovy=45,BACKUP_AND_RESTORE_VIEW=True)\n",
    "        env.plot_T(p=p_base+1.25*R_base[:,2],R=np.eye(3,3),\n",
    "                    PLOT_AXIS=False,label='[%.4f] err'%(np.linalg.norm(env.get_p_body('tcp_link')-grasp_obj_pose[:3,3])))\n",
    "        for i in range(len(p_semicircle)):\n",
    "            env.plot_sphere(p=p_semicircle[i], r=0.005, rgba=[0,1,0,1])\n",
    "        env.render(render_every=1)\n",
    "        \n",
    "# Close viewer\n",
    "env.close_viewer()\n",
    "print (\"Done. Tick:[%d] Time:[%.2f]sec\"%(env.tick,env.get_sim_time()))"
   ]
  },
  {
   "cell_type": "code",
   "execution_count": 65,
   "metadata": {},
   "outputs": [
    {
     "data": {
      "application/vnd.jupyter.widget-view+json": {
       "model_id": "fd400358619e492b8f544d1ebd2ad506",
       "version_major": 2,
       "version_minor": 0
      },
      "text/plain": [
       "Widget(value=\"<iframe src='http://localhost:33007/index.html?ui=P_0x7fd264f89dc0_10&reconnect=auto' style='wid…"
      ]
     },
     "metadata": {},
     "output_type": "display_data"
    }
   ],
   "source": [
    "import numpy as np\n",
    "\n",
    "obj_name = 'obj_cylinder_01'\n",
    "p_obj = env.get_p_body(obj_name)\n",
    "R_obj = env.get_R_body(obj_name)\n",
    "p_eef = env.get_p_body('tcp_link')\n",
    "R_eef = env.get_R_body('tcp_link')\n",
    "R_world = np.eye(3)\n",
    "\n",
    "unit_xy = p_eef[:2] - p_obj[:2]\n",
    "unit_xy = np.append(unit_xy, 0)\n",
    "unit_xy /= np.linalg.norm(unit_xy)\n",
    "vec_to_eef = p_eef - p_obj\n",
    "projected_vec = np.dot(vec_to_eef, unit_xy) * unit_xy\n",
    "# sample region of the semicircle\n",
    "radius = 0.05\n",
    "normalized_projected_vec = projected_vec / np.linalg.norm(projected_vec)\n",
    "\n",
    "num_points = 50\n",
    "theta = np.linspace(np.pi*0.25, np.pi*0.75, num_points)\n",
    "p_semicircle = np.zeros((num_points, 3))\n",
    "\n",
    "# List to store the rotations (pose) at each semicircle_point\n",
    "R_semicirlce = []\n",
    "for i in range(num_points):\n",
    "    point_on_semicircle = p_obj + radius * (normalized_projected_vec) * np.sin(theta[i]) + radius * R_world[:, 1] * np.cos(theta[i])\n",
    "    point_on_semicircle[2] += 0.07\n",
    "    p_semicircle[i] = point_on_semicircle\n",
    "\n",
    "    # Define an arbitrary z-axis for orientation reference\n",
    "    z_axis = np.array([0, 0, 1])\n",
    "    rotation_matrix = np.eye(3)\n",
    "    rotation_matrix[:, 1] = -normalized_projected_vec\n",
    "    rotation_matrix[:, 0] = np.cross(normalized_projected_vec, z_axis)\n",
    "    rotation_matrix[:, 0] /= np.linalg.norm(rotation_matrix[:, 1])\n",
    "    rotation_matrix[:, 2] = np.cross(rotation_matrix[:, 0], rotation_matrix[:, 1])\n",
    "    R_semicirlce.append(rotation_matrix)\n",
    "\n",
    "# Convert the list of rotations to a numpy array\n",
    "R_semicirlce = np.array(R_semicirlce)\n",
    "\n",
    "import pyvista as pv\n",
    "\n",
    "# passthrough filter about z axis\n",
    "def passthrough_filter(pcd, axis, interval):\n",
    "    mask = (pcd[:, axis] > interval[0]) & (pcd[:, axis] < interval[1])\n",
    "    return pcd[mask]\n",
    "\n",
    "pcd_masked = passthrough_filter(pcd, axis=2, interval=[0.5, 1.0])\n",
    "# pcd_masked_down = np.array(pcd_masked)[::50]  # downsample to visualize with markers for speed.\n",
    "\n",
    "plotter = pv.Plotter()\n",
    "plotter.add_points(p_semicircle)\n",
    "plotter.add_points(p_obj, color=\"red\")\n",
    "plotter.show()"
   ]
  },
  {
   "cell_type": "code",
   "execution_count": 86,
   "metadata": {},
   "outputs": [
    {
     "name": "stdout",
     "output_type": "stream",
     "text": [
      "Solved joint q values: [ 0.18 -1.08  2.18 -1.1   1.94 -0.  ]\n",
      "Done.\n",
      "Joint trajectory ready. duration:[5.74]sec\n"
     ]
    }
   ],
   "source": [
    "sampled_idx = np.random.randint(0, len(p_semicircle), 1)[0]\n",
    "p_cand = p_semicircle[sampled_idx]\n",
    "R_cand = R_semicirlce[sampled_idx]\n",
    "\n",
    "env.init_viewer(viewer_title='UR5e with RG2 gripper',viewer_width=1200,viewer_height=800,\n",
    "                viewer_hide_menus=True)\n",
    "env.update_viewer(azimuth=0.0,distance=3.5,elevation=-60,lookat=[0.4,0.05,0.36],\n",
    "                  VIS_TRANSPARENT=False,VIS_CONTACTPOINT=True,\n",
    "                  contactwidth=0.05,contactheight=0.05,contactrgba=np.array([1,0,0,1]),\n",
    "                  VIS_JOINT=True,jointlength=0.5,jointwidth=0.1,jointrgba=[0.2,0.6,0.8,0.6])\n",
    "env.reset()\n",
    "\n",
    "init_ur_q = np.array([np.deg2rad(-90), np.deg2rad(-130), np.deg2rad(120), np.deg2rad(100), np.deg2rad(45), np.deg2rad(-90)])\n",
    "q_init_upright = np.array([0,-np.pi/2,0,0,np.pi/2,0])\n",
    "pre_grasp_pose = p_cand.copy()\n",
    "pre_grasp_pose = pre_grasp_pose + normalized_projected_vec * 0.15\n",
    "p_grasp = p_obj.copy()\n",
    "p_grasp = p_grasp - normalized_projected_vec * 0.05\n",
    "\n",
    "q_ik_pregrasp = env.solve_ik_repel(\n",
    "    body_name='tcp_link',p_trgt=pre_grasp_pose,R_trgt=R_cand,\n",
    "    IK_P=True,IK_R=True, q_init=q_init_upright,idxs_forward=env.idxs_forward, idxs_jacobian=env.idxs_jacobian,\n",
    "    RESET=False, DO_RENDER=True, th=1, err_th=1e-3, stepsize=1.0, w_weight=0.3, render_every=1.0, eps = 0.3, repulse = 15, VERBOSE=False)\n",
    "\n",
    "q_ik = env.solve_ik_repel(\n",
    "    body_name='tcp_link',p_trgt=p_cand,R_trgt=R_cand,\n",
    "    IK_P=True,IK_R=True, q_init=q_ik_pregrasp,idxs_forward=env.idxs_forward, idxs_jacobian=env.idxs_jacobian,\n",
    "    RESET=False, DO_RENDER=True, th=1, err_th=1e-3, stepsize=1.0, w_weight=0.3, render_every=1.0, eps = 0.3, repulse = 15, VERBOSE=False)\n",
    "\n",
    "q_pick = env.solve_ik_repel(\n",
    "    body_name='tcp_link',p_trgt=p_grasp,R_trgt=R_cand,\n",
    "    IK_P=True,IK_R=True, q_init=q_ik_pregrasp,idxs_forward=env.idxs_forward, idxs_jacobian=env.idxs_jacobian,\n",
    "    RESET=False, DO_RENDER=True, th=1, err_th=1e-3, stepsize=1.0, w_weight=0.3, render_every=1.0, eps = 0.3, repulse = 15, VERBOSE=False)\n",
    "\n",
    "print(f\"Solved joint q values: {q_ik}\")\n",
    "# Close viewer\n",
    "env.close_viewer()\n",
    "print (\"Done.\")\n",
    "\n",
    "q_init_upright = np.array([0,-np.pi/2,0,0,np.pi/2,0])\n",
    "times, q_traj = get_interp_const_vel_traj(np.vstack([q_init_upright,q_ik_pregrasp, q_ik, q_pick]), vel=np.radians(30), HZ=env.HZ)\n",
    "print (\"Joint trajectory ready. duration:[%.2f]sec\"%(times[-1]))"
   ]
  },
  {
   "cell_type": "code",
   "execution_count": 90,
   "metadata": {},
   "outputs": [
    {
     "name": "stdout",
     "output_type": "stream",
     "text": [
      "Pressed ESC\n",
      "Quitting.\n",
      "Done. Tick:[5702] Time:[11.40]sec\n"
     ]
    }
   ],
   "source": [
    "# Init viewer\n",
    "env.init_viewer(viewer_title='UR5e with RG2 gripper',viewer_width=1200,viewer_height=800,\n",
    "                viewer_hide_menus=True)\n",
    "env.update_viewer(azimuth=66.08,distance=3.0,elevation=-50,lookat=[0.4,0.18,0.71],\n",
    "                  VIS_TRANSPARENT=False,VIS_CONTACTPOINT=False,\n",
    "                  contactwidth=0.05,contactheight=0.05,contactrgba=np.array([1,0,0,1]),\n",
    "                  VIS_JOINT=True,jointlength=0.25,jointwidth=0.05,jointrgba=[0.2,0.6,0.8,0.6])\n",
    "\n",
    "pcd_tick = 0\n",
    "\n",
    "# Reset\n",
    "env.reset()\n",
    "q_init_upright = np.array([0,-np.pi/2,0,0,np.pi/2,0])\n",
    "env.forward(q=q_init_upright, joint_idxs=env.idxs_forward)\n",
    "tick,max_sec = 0,1000\n",
    "while env.get_sim_time() <= max_sec:\n",
    "    # q = q_traj[tick, :]\n",
    "    # Step\n",
    "    if np.linalg.norm(env.get_p_body('tcp_link')-p_grasp) < 0.0125:\n",
    "        q = np.append(q_traj[tick, :],0.0) # close gripper\n",
    "    else:\n",
    "        q = np.append(q_traj[tick, :],1.0) # open gripper\n",
    "    env.step(ctrl=q,ctrl_idxs=[0,1,2,3,4,5,6])\n",
    "\n",
    "    tick = min(tick + 1,q_traj.shape[0]-1)\n",
    "    if not env.is_viewer_alive(): break\n",
    "        \n",
    "    # Render\n",
    "    if env.loop_every(HZ=20):\n",
    "        # Compute some poses\n",
    "        p_tcp,R_tcp = env.get_pR_body(body_name='tcp_link')\n",
    "        p_cam,R_cam = env.get_pR_body(body_name='camera_center')\n",
    "        p_base,R_base = env.get_pR_body(body_name='base')\n",
    "        # Get PCD from a specific view\n",
    "        p_ego  = p_cam\n",
    "        p_trgt = p_cam + R_cam[:,2]\n",
    "        rgb_img,depth_img,pcd,xyz_img = env.get_egocentric_rgb_depth_pcd(\n",
    "            p_ego=p_ego,p_trgt=p_trgt,rsz_rate=40,fovy=45,BACKUP_AND_RESTORE_VIEW=True)\n",
    "        env.plot_T(p=p_base+1.25*R_base[:,2],R=np.eye(3,3),\n",
    "                    PLOT_AXIS=False,label='[%.4f] err'%(np.linalg.norm(env.get_p_body('tcp_link')-p_grasp)))\n",
    "        for i in range(len(p_semicircle)):\n",
    "            env.plot_sphere(p=p_semicircle[i], r=0.005, rgba=[0,1,0,1])\n",
    "        env.render(render_every=1)\n",
    "        \n",
    "# Close viewer\n",
    "env.close_viewer()\n",
    "print (\"Done. Tick:[%d] Time:[%.2f]sec\"%(env.tick,env.get_sim_time()))"
   ]
  },
  {
   "cell_type": "code",
   "execution_count": null,
   "metadata": {},
   "outputs": [],
   "source": []
  },
  {
   "cell_type": "code",
   "execution_count": null,
   "metadata": {},
   "outputs": [],
   "source": []
  },
  {
   "cell_type": "markdown",
   "metadata": {},
   "source": [
    "## Detect Grasp pose"
   ]
  },
  {
   "cell_type": "code",
   "execution_count": 13,
   "metadata": {},
   "outputs": [],
   "source": [
    "import cv2\n",
    "import numpy as np\n",
    "\n",
    "def get_grasp_pose(image_array):\n",
    "    # Copy the array to avoid modifying the original image\n",
    "    image = np.copy(image_array)\n",
    "    # Convert image to grayscale\n",
    "    grayscale_image = cv2.cvtColor(image, cv2.COLOR_BGR2GRAY)\n",
    "    # Apply thresholding to get binary image\n",
    "    _, binary_image = cv2.threshold(grayscale_image, 128, 255, cv2.THRESH_BINARY)\n",
    "    # Find contours\n",
    "    contours, _ = cv2.findContours(binary_image, cv2.RETR_TREE, cv2.CHAIN_APPROX_SIMPLE)\n",
    "\n",
    "    # Iterate through contours and find top points\n",
    "    for contour in contours:\n",
    "        # Get the bounding rect\n",
    "        x, y, w, h = cv2.boundingRect(contour)\n",
    "        # Top point is the first point in the bounding rect\n",
    "        top_point = (x + w//2, y)\n",
    "        # Draw circle for grasp point\n",
    "        cv2.circle(image, top_point, 5, (0, 255, 0), -1)\n",
    "        # Draw rectangle for object\n",
    "        cv2.rectangle(image, (x, y), (x+w, y+h), (255, 0, 0), 2)\n",
    "\n",
    "    # Show the image\n",
    "    plt.imshow(image)\n",
    "    plt.show()\n",
    "    \n",
    "# Test the function\n",
    "# get_grasp_pose(rgb_img)\n"
   ]
  },
  {
   "cell_type": "code",
   "execution_count": null,
   "metadata": {},
   "outputs": [],
   "source": []
  }
 ],
 "metadata": {
  "kernelspec": {
   "display_name": "Python 3",
   "language": "python",
   "name": "python3"
  },
  "language_info": {
   "codemirror_mode": {
    "name": "ipython",
    "version": 3
   },
   "file_extension": ".py",
   "mimetype": "text/x-python",
   "name": "python",
   "nbconvert_exporter": "python",
   "pygments_lexer": "ipython3",
   "version": "3.8.10"
  },
  "orig_nbformat": 4
 },
 "nbformat": 4,
 "nbformat_minor": 2
}
