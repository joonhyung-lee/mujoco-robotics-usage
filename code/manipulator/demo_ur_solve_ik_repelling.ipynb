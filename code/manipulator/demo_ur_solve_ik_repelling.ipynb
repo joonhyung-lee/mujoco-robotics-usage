{
 "cells": [
  {
   "cell_type": "markdown",
   "metadata": {},
   "source": [
    "### Load Mujoco Engine"
   ]
  },
  {
   "cell_type": "code",
   "execution_count": 1,
   "metadata": {},
   "outputs": [
    {
     "name": "stdout",
     "output_type": "stream",
     "text": [
      "MuJoCo version:[2.3.4]\n"
     ]
    }
   ],
   "source": [
    "import mujoco\n",
    "import numpy as np\n",
    "import matplotlib.pyplot as plt\n",
    "import sys\n",
    "sys.path.append(\"../../\")\n",
    "from model.mujoco_parser import MuJoCoParserClass\n",
    "from model.util import sample_xyzs,rpy2r,r2quat\n",
    "np.set_printoptions(precision=2,suppress=True,linewidth=100)\n",
    "plt.rc('xtick',labelsize=6); plt.rc('ytick',labelsize=6)\n",
    "%config InlineBackend.figure_format = 'retina'\n",
    "%matplotlib inline\n",
    "print (\"MuJoCo version:[%s]\"%(mujoco.__version__))"
   ]
  },
  {
   "cell_type": "markdown",
   "metadata": {},
   "source": [
    "### Parse"
   ]
  },
  {
   "cell_type": "code",
   "execution_count": 3,
   "metadata": {},
   "outputs": [
    {
     "name": "stdout",
     "output_type": "stream",
     "text": [
      "dt:[0.0020] HZ:[500]\n",
      "n_body:[52]\n",
      "geom_names:['floor', None, None, None, None, None, 'ur_shoulder_link_collision', None, None, None, None, 'ur_upper_arm_link_1_collision', 'ur_upper_arm_link_2_collision', None, None, None, None, 'ur_forearm_link_1_collision', 'ur_forearm_link_2_collision', None, None, None, 'ur_wrist_1_link_collision', None, None, None, 'ur_wrist_2_link_1_collision', 'ur_wrist_2_link_2_collision', None, 'ur_wrist_3_link_collision', 'ur_tcp_link_collision', 'camera_mount_collision', 'camera_mounted_gear_collision', 'ur_rg2_gripper_base_link_collision', 'camera_center_collision', 'ur_rg2_gripper_finger1_finger_link_collision', 'ur_rg2_gripper_finger1_inner_knuckle_link_collision', 'ur_rg2_gripper_finger1_finger_tip_link_collision', 'ur_rg2_gripper_finger2_finger_link_collision', 'ur_rg2_gripper_finger2_inner_knuckle_link_collision', 'ur_rg2_gripper_finger2_finger_tip_link_collision', 'front_object_table', 'side_object_table', 'base_table', 'obj_cylinder_01', 'obj_cylinder_02', 'obj_cylinder_03', 'obj_cylinder_04', 'obj_cylinder_05', 'obj_cylinder_06', 'obj_cylinder_07', 'obj_cylinder_08']\n",
      "n_body:[29]\n",
      "body_names:['world', 'base', 'shoulder_link', 'upper_arm_link', 'forearm_link', 'wrist_1_link', 'ur_wrist_2_link_collision', 'wrist_3_link', 'tcp_link', 'camera_mount', 'rg2_gripper_base_link', 'camera_center', 'rg2_gripper_finger1_finger_link', 'rg2_gripper_finger1_inner_knuckle_link', 'rg2_gripper_finger1_finger_tip_link', 'rg2_gripper_finger2_finger_link', 'rg2_gripper_finger2_inner_knuckle_link', 'rg2_gripper_finger2_finger_tip_link', 'front_object_table', 'side_object_table', 'base_table', 'obj_cylinder_01', 'obj_cylinder_02', 'obj_cylinder_03', 'obj_cylinder_04', 'obj_cylinder_05', 'obj_cylinder_06', 'obj_cylinder_07', 'obj_cylinder_08']\n",
      "n_joint:[20]\n",
      "joint_names:['shoulder_pan_joint', 'shoulder_lift_joint', 'elbow_joint', 'wrist_1_joint', 'wrist_2_joint', 'wrist_3_joint', 'gripper_finger1_joint', 'gripper_finger1_inner_knuckle_joint', 'gripper_finger1_finger_tip_joint', 'gripper_finger2_joint', 'gripper_finger2_inner_knuckle_joint', 'gripper_finger2_finger_tip_joint', None, None, None, None, None, None, None, None]\n",
      "joint_types:[3 3 3 3 3 3 3 3 3 3 3 3 0 0 0 0 0 0 0 0]\n",
      "joint_ranges:\n",
      "[[-6.28  6.28]\n",
      " [-6.28  6.28]\n",
      " [-3.14  3.14]\n",
      " [-6.28  6.28]\n",
      " [-6.28  6.28]\n",
      " [-6.28  6.28]\n",
      " [-1.    0.  ]\n",
      " [-1.    0.  ]\n",
      " [-1.    1.  ]\n",
      " [ 0.    1.  ]\n",
      " [ 0.    1.  ]\n",
      " [-1.    1.  ]\n",
      " [-6.28  6.28]\n",
      " [-6.28  6.28]\n",
      " [-6.28  6.28]\n",
      " [-6.28  6.28]\n",
      " [-6.28  6.28]\n",
      " [-6.28  6.28]\n",
      " [-6.28  6.28]\n",
      " [-6.28  6.28]]\n",
      "n_rev_joint:[12]\n",
      "rev_joint_idxs:[ 0  1  2  3  4  5  6  7  8  9 10 11]\n",
      "rev_joint_names:['shoulder_pan_joint', 'shoulder_lift_joint', 'elbow_joint', 'wrist_1_joint', 'wrist_2_joint', 'wrist_3_joint', 'gripper_finger1_joint', 'gripper_finger1_inner_knuckle_joint', 'gripper_finger1_finger_tip_joint', 'gripper_finger2_joint', 'gripper_finger2_inner_knuckle_joint', 'gripper_finger2_finger_tip_joint']\n",
      "rev_joint_mins:[-6.28 -6.28 -3.14 -6.28 -6.28 -6.28 -1.   -1.   -1.    0.    0.   -1.  ]\n",
      "rev_joint_maxs:[6.28 6.28 3.14 6.28 6.28 6.28 0.   0.   1.   1.   1.   1.  ]\n",
      "rev_joint_ranges:[12.57 12.57  6.28 12.57 12.57 12.57  1.    1.    2.    1.    1.    2.  ]\n",
      "n_pri_joint:[0]\n",
      "pri_joint_idxs:[]\n",
      "pri_joint_names:[]\n",
      "pri_joint_mins:[]\n",
      "pri_joint_maxs:[]\n",
      "pri_joint_ranges:[]\n",
      "n_ctrl:[7]\n",
      "ctrl_names:['shoulder_pan', 'shoulder_lift', 'elbow', 'wrist_1', 'wrist_2', 'wrist_3', 'gripper']\n",
      "ctrl_joint_idxs:[0, 1, 2, 3, 4, 5, 9]\n",
      "ctrl_qvel_idxs:[0, 1, 2, 3, 4, 5, 9]\n",
      "ctrl_ranges:\n",
      "[[-6.28  6.28]\n",
      " [-6.28  6.28]\n",
      " [-3.14  3.14]\n",
      " [-6.28  6.28]\n",
      " [-6.28  6.28]\n",
      " [-6.28  6.28]\n",
      " [ 0.    1.  ]]\n",
      "n_sensor:[0]\n",
      "sensor_names:[]\n",
      "n_site:[1]\n",
      "site_names:['attachment_site']\n",
      "Ready.\n"
     ]
    }
   ],
   "source": [
    "xml_path = '../../asset/ur5e/scene_ur5e_rg2_obj.xml'\n",
    "env = MuJoCoParserClass(name='UR5e with RG2 gripper',rel_xml_path=xml_path,VERBOSE=True)\n",
    "obj_names = [body_name for body_name in env.body_names\n",
    "             if body_name is not None and (body_name.startswith(\"obj_\"))]\n",
    "n_obj = len(obj_names)\n",
    "# Place objects in a row\n",
    "xyzs = sample_xyzs(n_sample=n_obj,\n",
    "                   x_range=[0.45,1.65],y_range=[-0.38,0.38],z_range=[0.81,0.81],min_dist=0.2)\n",
    "colors = np.array([plt.cm.gist_rainbow(x) for x in np.linspace(0,1,n_obj)])\n",
    "for obj_idx,obj_name in enumerate(obj_names):\n",
    "    jntadr = env.model.body(obj_name).jntadr[0]\n",
    "    env.model.joint(jntadr).qpos0[:3] = xyzs[obj_idx,:]\n",
    "    geomadr = env.model.body(obj_name).geomadr[0]\n",
    "    env.model.geom(geomadr).rgba = colors[obj_idx] # color\n",
    "\n",
    "# Move tables and robot base\n",
    "env.model.body('base_table').pos = np.array([0,0,0])\n",
    "env.model.body('front_object_table').pos = np.array([1.05,0,0])\n",
    "env.model.body('side_object_table').pos = np.array([0,-0.85,0])\n",
    "env.model.body('base').pos = np.array([0,0,0.8])\n",
    "print (\"Ready.\")"
   ]
  },
  {
   "cell_type": "markdown",
   "metadata": {},
   "source": [
    "### Get gripper joint indexes"
   ]
  },
  {
   "cell_type": "code",
   "execution_count": 4,
   "metadata": {},
   "outputs": [
    {
     "name": "stdout",
     "output_type": "stream",
     "text": [
      "Gripper joint idxs: [6, 7, 8, 9, 10, 11]\n"
     ]
    }
   ],
   "source": [
    "joint_names = env.rev_joint_names[:6]\n",
    "idxs_forward = [env.model.joint(joint_name).qposadr[0] for joint_name in env.joint_names[:6]]\n",
    "idxs_jacobian = [env.model.joint(joint_name).dofadr[0] for joint_name in env.joint_names[:6]]\n",
    "list1, list2 = env.ctrl_joint_idxs, idxs_forward\n",
    "idxs_step = []\n",
    "for i in range(len(list2)):\n",
    "    if list2[i] not in list1:\n",
    "        idxs_step.append(list1.index(list2[i]))\n",
    "        \n",
    "gripper_joint_idxs = []\n",
    "\n",
    "for gripper_idx in env.rev_joint_idxs:\n",
    "    if gripper_idx in env.idxs_forward:\n",
    "        gripper_joint_idxs.append(gripper_idx)\n",
    "print(f\"Gripper joint idxs: {gripper_joint_idxs}\")"
   ]
  },
  {
   "cell_type": "code",
   "execution_count": 5,
   "metadata": {},
   "outputs": [],
   "source": [
    "init_q = [-1.570521656666891, -2.311883111993307, 2.1441715399371546, 1.73920385419812, 0.7853929996490479, -1.5711215178119105]\n",
    "q_close_grasp = [-0.03, -0.0273, -0.03, 0.03, 0.0273, 0.03]"
   ]
  },
  {
   "cell_type": "markdown",
   "metadata": {},
   "source": [
    "## Repel Inverse Kinematic"
   ]
  },
  {
   "cell_type": "code",
   "execution_count": 6,
   "metadata": {},
   "outputs": [
    {
     "name": "stdout",
     "output_type": "stream",
     "text": [
      "p_contacts: [array([ 0.33, -0.  ,  1.15])]\n",
      "f_contacts: [array([ 0.03, -0.04, 67.5 ])]\n",
      "geom1s: ['ur_rg2_gripper_finger1_finger_tip_link_collision']\n",
      "geom2s: ['ur_rg2_gripper_finger2_finger_tip_link_collision']\n",
      "Collision detected!\n",
      "Index: 0, geom1: ur_rg2_gripper_finger1_finger_tip_link_collision, geom2: ur_rg2_gripper_finger2_finger_tip_link_collision\n",
      "ur_rg2_gripper_finger1_finger_tip_link_collision is not in all_body_names\n",
      "new geom1 name: ur_rg2_gripper_finger1_finger_tip_link\n",
      "ur_rg2_gripper_finger2_finger_tip_link_collision is not in all_body_names\n",
      "new geom2 name: ur_rg2_gripper_finger2_finger_tip_link\n"
     ]
    },
    {
     "ename": "KeyError",
     "evalue": "\"Invalid name 'ur_rg2_gripper_finger1_finger_tip_link'. Valid names: ['base', 'base_table', 'camera_center', 'camera_mount', 'forearm_link', 'front_object_table', 'obj_cylinder_01', 'obj_cylinder_02', 'obj_cylinder_03', 'obj_cylinder_04', 'obj_cylinder_05', 'obj_cylinder_06', 'obj_cylinder_07', 'obj_cylinder_08', 'rg2_gripper_base_link', 'rg2_gripper_finger1_finger_link', 'rg2_gripper_finger1_finger_tip_link', 'rg2_gripper_finger1_inner_knuckle_link', 'rg2_gripper_finger2_finger_link', 'rg2_gripper_finger2_finger_tip_link', 'rg2_gripper_finger2_inner_knuckle_link', 'shoulder_link', 'side_object_table', 'tcp_link', 'upper_arm_link', 'ur_wrist_2_link_collision', 'world', 'wrist_1_link', 'wrist_3_link']\"",
     "output_type": "error",
     "traceback": [
      "\u001b[0;31m---------------------------------------------------------------------------\u001b[0m",
      "\u001b[0;31mKeyError\u001b[0m                                  Traceback (most recent call last)",
      "Cell \u001b[0;32mIn[6], line 79\u001b[0m\n\u001b[1;32m     76\u001b[0m repel_scale \u001b[39m=\u001b[39m \u001b[39m1.0\u001b[39m\n\u001b[1;32m     77\u001b[0m p_repel_trgt \u001b[39m=\u001b[39m p_contact \u001b[39m+\u001b[39m repel_direction \u001b[39m*\u001b[39m repel_scale\n\u001b[0;32m---> 79\u001b[0m J_contact, err_contact \u001b[39m=\u001b[39m env\u001b[39m.\u001b[39;49mget_ik_ingredients(\n\u001b[1;32m     80\u001b[0m body_name\u001b[39m=\u001b[39;49mcontact_body,p_trgt\u001b[39m=\u001b[39;49mp_repel_trgt,R_trgt\u001b[39m=\u001b[39;49mnp\u001b[39m.\u001b[39;49meye(\u001b[39m3\u001b[39;49m),IK_P\u001b[39m=\u001b[39;49m\u001b[39mTrue\u001b[39;49;00m,IK_R\u001b[39m=\u001b[39;49m\u001b[39mFalse\u001b[39;49;00m)\n\u001b[1;32m     81\u001b[0m dq \u001b[39m=\u001b[39m env\u001b[39m.\u001b[39mdamped_ls(J_contact, err_contact,stepsize\u001b[39m=\u001b[39mrepel_step_size,eps\u001b[39m=\u001b[39m\u001b[39m1e-1\u001b[39m,th\u001b[39m=\u001b[39mth)\n\u001b[1;32m     82\u001b[0m q \u001b[39m=\u001b[39m q \u001b[39m+\u001b[39m dq[env\u001b[39m.\u001b[39midxs_jacobian]\n",
      "File \u001b[0;32m~/course/xai615-realworld/code/simulation/../../model/mujoco_parser.py:360\u001b[0m, in \u001b[0;36mMuJoCoParserClass.get_ik_ingredients\u001b[0;34m(self, body_name, p_trgt, R_trgt, IK_P, IK_R, w_weight)\u001b[0m\n\u001b[1;32m    356\u001b[0m \u001b[39mdef\u001b[39;00m \u001b[39mget_ik_ingredients\u001b[39m(\u001b[39mself\u001b[39m,body_name,p_trgt\u001b[39m=\u001b[39m\u001b[39mNone\u001b[39;00m,R_trgt\u001b[39m=\u001b[39m\u001b[39mNone\u001b[39;00m,IK_P\u001b[39m=\u001b[39m\u001b[39mTrue\u001b[39;00m,IK_R\u001b[39m=\u001b[39m\u001b[39mTrue\u001b[39;00m, w_weight\u001b[39m=\u001b[39m\u001b[39m1\u001b[39m):\n\u001b[1;32m    357\u001b[0m \u001b[39m    \u001b[39m\u001b[39m\"\"\"\u001b[39;00m\n\u001b[1;32m    358\u001b[0m \u001b[39m        Get IK ingredients\u001b[39;00m\n\u001b[1;32m    359\u001b[0m \u001b[39m    \"\"\"\u001b[39;00m\n\u001b[0;32m--> 360\u001b[0m     J_p,J_R,J_full \u001b[39m=\u001b[39m \u001b[39mself\u001b[39;49m\u001b[39m.\u001b[39;49mget_J_body(body_name\u001b[39m=\u001b[39;49mbody_name)\n\u001b[1;32m    361\u001b[0m     p_curr,R_curr \u001b[39m=\u001b[39m \u001b[39mself\u001b[39m\u001b[39m.\u001b[39mget_pR_body(body_name\u001b[39m=\u001b[39mbody_name)\n\u001b[1;32m    362\u001b[0m     \u001b[39mif\u001b[39;00m (IK_P \u001b[39mand\u001b[39;00m IK_R):\n",
      "File \u001b[0;32m~/course/xai615-realworld/code/simulation/../../model/mujoco_parser.py:352\u001b[0m, in \u001b[0;36mMuJoCoParserClass.get_J_body\u001b[0;34m(self, body_name)\u001b[0m\n\u001b[1;32m    350\u001b[0m J_p \u001b[39m=\u001b[39m np\u001b[39m.\u001b[39mzeros((\u001b[39m3\u001b[39m,\u001b[39mself\u001b[39m\u001b[39m.\u001b[39mmodel\u001b[39m.\u001b[39mnv)) \u001b[39m# nv: nDoF\u001b[39;00m\n\u001b[1;32m    351\u001b[0m J_R \u001b[39m=\u001b[39m np\u001b[39m.\u001b[39mzeros((\u001b[39m3\u001b[39m,\u001b[39mself\u001b[39m\u001b[39m.\u001b[39mmodel\u001b[39m.\u001b[39mnv))\n\u001b[0;32m--> 352\u001b[0m mujoco\u001b[39m.\u001b[39mmj_jacBody(\u001b[39mself\u001b[39m\u001b[39m.\u001b[39mmodel,\u001b[39mself\u001b[39m\u001b[39m.\u001b[39mdata,J_p,J_R,\u001b[39mself\u001b[39;49m\u001b[39m.\u001b[39;49mdata\u001b[39m.\u001b[39;49mbody(body_name)\u001b[39m.\u001b[39mid)\n\u001b[1;32m    353\u001b[0m J_full \u001b[39m=\u001b[39m np\u001b[39m.\u001b[39marray(np\u001b[39m.\u001b[39mvstack([J_p,J_R]))\n\u001b[1;32m    354\u001b[0m \u001b[39mreturn\u001b[39;00m J_p,J_R,J_full\n",
      "\u001b[0;31mKeyError\u001b[0m: \"Invalid name 'ur_rg2_gripper_finger1_finger_tip_link'. Valid names: ['base', 'base_table', 'camera_center', 'camera_mount', 'forearm_link', 'front_object_table', 'obj_cylinder_01', 'obj_cylinder_02', 'obj_cylinder_03', 'obj_cylinder_04', 'obj_cylinder_05', 'obj_cylinder_06', 'obj_cylinder_07', 'obj_cylinder_08', 'rg2_gripper_base_link', 'rg2_gripper_finger1_finger_link', 'rg2_gripper_finger1_finger_tip_link', 'rg2_gripper_finger1_inner_knuckle_link', 'rg2_gripper_finger2_finger_link', 'rg2_gripper_finger2_finger_tip_link', 'rg2_gripper_finger2_inner_knuckle_link', 'shoulder_link', 'side_object_table', 'tcp_link', 'upper_arm_link', 'ur_wrist_2_link_collision', 'world', 'wrist_1_link', 'wrist_3_link']\""
     ]
    },
    {
     "ename": "",
     "evalue": "",
     "output_type": "error",
     "traceback": [
      "\u001b[1;31mThe Kernel crashed while executing code in the the current cell or a previous cell. Please review the code in the cell(s) to identify a possible cause of the failure. Click <a href='https://aka.ms/vscodeJupyterKernelCrash'>here</a> for more info. View Jupyter <a href='command:jupyter.viewOutput'>log</a> for further details."
     ]
    }
   ],
   "source": [
    "env.init_viewer(viewer_title='UR5e with RG2 gripper',viewer_width=1200,viewer_height=800,\n",
    "                viewer_hide_menus=True)\n",
    "env.update_viewer(azimuth=0.0,distance=3.5,elevation=-60,lookat=[0.4,0.05,0.36],\n",
    "                  VIS_TRANSPARENT=False,VIS_CONTACTPOINT=True,\n",
    "                  contactwidth=0.05,contactheight=0.05,contactrgba=np.array([1,0,0,1]),\n",
    "                  VIS_JOINT=True,jointlength=0.5,jointwidth=0.1,jointrgba=[0.2,0.6,0.8,0.6])\n",
    "env.reset()\n",
    "\n",
    "p_trgt=np.array([0.7, -0.2, 0.9])\n",
    "R_trgt = rpy2r(np.radians([-180,0,90]))\n",
    "q_init=np.array(init_q)\n",
    "body_name='tcp_link'\n",
    "\n",
    "render_every = 1\n",
    "th=1*np.pi/180.0\n",
    "err_th=1e-3\n",
    "DO_RENDER = True\n",
    "\n",
    "all_body_names = env.get_body_names(prefix='')\n",
    "prefix_collision = 'base_table'\n",
    "self_collision = ''\n",
    "\n",
    "q_backup = env.get_q(joint_idxs=env.idxs_forward)\n",
    "q = q_init.copy()\n",
    "env.forward(q=q,joint_idxs=env.idxs_forward)\n",
    "tick = 0\n",
    "\n",
    "while True:\n",
    "    tick = tick + 1\n",
    "    J,err = env.get_ik_ingredients(\n",
    "        body_name=body_name,p_trgt=p_trgt,R_trgt=R_trgt,IK_P=True,IK_R=True)\n",
    "    dq = env.damped_ls(J,err,stepsize=1,eps=1e-1,th=th)\n",
    "    q = q + dq[env.idxs_jacobian]\n",
    "\n",
    "    env.forward(q=q,joint_idxs=env.idxs_forward)\n",
    "\n",
    "    p_contacts,f_contacts,geom1s,geom2s = env.get_contact_info(must_include_prefix=None,must_exclude_prefix=None)\n",
    "    # p_contacts,f_contacts,geom1s,geom2s = env.get_multiple_contact_info(must_include_prefixes=None, must_exclude_prefixes='rg2_')\n",
    "    print(f\"p_contacts: {p_contacts}\")\n",
    "    print(f\"f_contacts: {f_contacts}\")\n",
    "    print(f\"geom1s: {geom1s}\")\n",
    "    print(f\"geom2s: {geom2s}\")\n",
    "\n",
    "    while len(geom1s) > 0 and len(geom2s) > 0:\n",
    "        print(\"Collision detected!\")\n",
    "        # revert to previous state. (Before collision.)\n",
    "        q = q - dq[env.idxs_jacobian]\n",
    "\n",
    "        for contact_geom_idx, (geom1, geom2) in enumerate(zip(geom1s, geom2s)):\n",
    "            print(f\"Index: {contact_geom_idx}, geom1: {geom1}, geom2: {geom2}\")\n",
    "            # Detect Self-collision.\n",
    "            if geom1 not in all_body_names: # if the name of the robot's geom is not in the list of all body names\n",
    "                print(f\"{geom1} is not in all_body_names\")\n",
    "                cut_geom1_name = geom1.split('_')[0:-1] # slice all elements except the last one\n",
    "                new_geom1_name = '_'.join(cut_geom1_name)     # join the sliced elements back into a string\n",
    "                print(f\"new geom1 name: {new_geom1_name}\")\n",
    "\n",
    "            # Detect with the Table.\n",
    "            if geom2 not in all_body_names: # if the name of the robot's geom is not in the list of all body names\n",
    "                print(f\"{geom2} is not in all_body_names\")\n",
    "                cut_geom2_name = geom2.split('_')[0:-1] # slice all elements except the last one\n",
    "                new_geom2_name = '_'.join(cut_geom2_name)     # join the sliced elements back into a string\n",
    "                print(f\"new geom2 name: {new_geom2_name}\")\n",
    "\n",
    "        contact_body = new_geom1_name\n",
    "\n",
    "        p_contact = p_contacts[contact_geom_idx]\n",
    "        f_contact = f_contacts[contact_geom_idx]\n",
    "        f_norm = np.linalg.norm(f_contact) # normalize the force\n",
    "        repel_direction = f_contact / (f_norm+1e-8) # numerical prevention\n",
    "        env.plot_arrow(p=p_contact,uv=repel_direction,r_stem=0.01,len_arrow=0.05,rgba=[1,0,0,1], label='')\n",
    "        env.plot_sphere(p=p_contact,r=0.02,rgba=[1,0.2,0.2,1],label='')\n",
    "        for p in p_contacts: env.plot_sphere(p=p,r=0.05,rgba=[1,0.2,0.2,1],label='contact points')\n",
    "\n",
    "        repel_step_size = 1\n",
    "        repel_scale = 1.0\n",
    "        p_repel_trgt = p_contact + repel_direction * repel_scale\n",
    "\n",
    "        J_contact, err_contact = env.get_ik_ingredients(\n",
    "        body_name=contact_body,p_trgt=p_repel_trgt,R_trgt=np.eye(3),IK_P=True,IK_R=False)\n",
    "        dq = env.damped_ls(J_contact, err_contact,stepsize=repel_step_size,eps=1e-1,th=th)\n",
    "        q = q + dq[env.idxs_jacobian]\n",
    "        env.forward(q=q,joint_idxs=env.idxs_forward)\n",
    "\n",
    "        env.plot_T(p=p_contact,R=np.eye(3),PLOT_AXIS=True,axis_len=0.1,axis_width=0.005, label='p_contact')\n",
    "        env.plot_T(p=p_repel_trgt,R=np.eye(3),PLOT_AXIS=True,axis_len=0.2,axis_width=0.005, label='p_repel_trgt')\n",
    "        env.render()\n",
    "\n",
    "        p_contacts,f_contacts,geom1s,geom2s = env.get_contact_info(must_include_prefix=None,must_exclude_prefix='rg2_')\n",
    "        # p_contacts,f_contacts,geom1s,geom2s = env.get_multiple_contact_info(must_include_prefixes=None, must_exclude_prefixes='rg2_')\n",
    "\n",
    "        \n",
    "    env.forward(q=q,joint_idxs=env.idxs_forward)\n",
    "    # Terminate condition\n",
    "    err_norm = np.linalg.norm(err)\n",
    "    if err_norm < err_th:\n",
    "        break\n",
    "    # Render\n",
    "    if DO_RENDER:\n",
    "        if ((tick-1)%render_every) == 0:\n",
    "            p_tcp,R_tcp = env.get_pR_body(body_name=body_name)\n",
    "            env.plot_T(p=p_tcp,R=R_tcp,PLOT_AXIS=True,axis_len=0.1,axis_width=0.005)\n",
    "            env.plot_T(p=p_trgt,R=R_trgt,PLOT_AXIS=True,axis_len=0.2,axis_width=0.005)\n",
    "            env.render()\n",
    "# Back to back-uped position\n",
    "q_ik = env.get_q(joint_idxs=env.idxs_forward)\n",
    "env.forward(q=q_backup,joint_idxs=env.idxs_forward)\n",
    "\n",
    "# Close viewer\n",
    "env.close_viewer()\n",
    "print (\"Done.\")"
   ]
  },
  {
   "cell_type": "code",
   "execution_count": null,
   "metadata": {},
   "outputs": [],
   "source": []
  }
 ],
 "metadata": {
  "kernelspec": {
   "display_name": "Python 3",
   "language": "python",
   "name": "python3"
  },
  "language_info": {
   "codemirror_mode": {
    "name": "ipython",
    "version": 3
   },
   "file_extension": ".py",
   "mimetype": "text/x-python",
   "name": "python",
   "nbconvert_exporter": "python",
   "pygments_lexer": "ipython3",
   "version": "3.8.10"
  },
  "orig_nbformat": 4
 },
 "nbformat": 4,
 "nbformat_minor": 2
}
