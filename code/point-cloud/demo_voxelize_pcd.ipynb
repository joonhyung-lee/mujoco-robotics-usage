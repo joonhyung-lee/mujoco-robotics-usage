{
 "cells": [
  {
   "cell_type": "markdown",
   "metadata": {},
   "source": [
    "### Use `RGBD` camera"
   ]
  },
  {
   "cell_type": "code",
   "execution_count": 1,
   "metadata": {},
   "outputs": [
    {
     "name": "stdout",
     "output_type": "stream",
     "text": [
      "MuJoCo version:[2.3.7]\n"
     ]
    },
    {
     "name": "stderr",
     "output_type": "stream",
     "text": [
      "/home/rilab/.pyenv/versions/3.8.13/envs/llm/lib/python3.8/site-packages/scipy/__init__.py:146: UserWarning: A NumPy version >=1.16.5 and <1.23.0 is required for this version of SciPy (detected version 1.24.4\n",
      "  warnings.warn(f\"A NumPy version >={np_minversion} and <{np_maxversion}\"\n"
     ]
    }
   ],
   "source": [
    "import mujoco,cv2,pyvista\n",
    "import numpy as np\n",
    "import matplotlib.pyplot as plt\n",
    "# from pyntcloud import PyntCloud\n",
    "import sys\n",
    "sys.path.append('../../')\n",
    "from utils.mujoco_parser import MuJoCoParserClass\n",
    "from utils.util import sample_xyzs,rpy2r,r2rpy,compute_view_params,get_interp_const_vel_traj\n",
    "np.set_printoptions(precision=2,suppress=True,linewidth=100)\n",
    "plt.rc('xtick',labelsize=6); plt.rc('ytick',labelsize=6)\n",
    "%config InlineBackend.figure_format = 'retina'\n",
    "%matplotlib inline\n",
    "print (\"MuJoCo version:[%s]\"%(mujoco.__version__))"
   ]
  },
  {
   "cell_type": "markdown",
   "metadata": {},
   "source": [
    "### Parse `UR5e` with `RG2` gripper"
   ]
  },
  {
   "cell_type": "code",
   "execution_count": 7,
   "metadata": {},
   "outputs": [
    {
     "name": "stdout",
     "output_type": "stream",
     "text": [
      "dt:[0.0020] HZ:[500]\n",
      "n_dof (=nv):[60]\n",
      "n_geom:[62]\n",
      "geom_names:['floor', None, None, None, None, None, None, None, None, None, None, None, None, None, None, None, None, None, None, None, None, None, None, None, None, None, None, None, None, None, None, None, None, None, None, None, None, None, None, None, None, None, None, None, None, None, None, None, None, None, 'front_object_table', 'right_object_table', 'left_object_table', 'base_table', 'obj_cylinder_01', 'obj_cylinder_02', 'obj_cylinder_03', 'obj_cylinder_04', 'obj_cylinder_05', 'obj_cylinder_06', 'obj_cylinder_07', 'obj_cylinder_08']\n",
      "n_body:[31]\n",
      "body_names:['world', 'base', 'shoulder_link', 'upper_arm_link', 'forearm_link', 'wrist_1_link', 'wrist_2_link', 'wrist_3_link', 'tcp_link', 'camera_mount', 'd435i', 'rg2_gripper_base_link', 'camera_center', 'rg2_gripper_finger1_finger_link', 'rg2_gripper_finger1_inner_knuckle_link', 'rg2_gripper_finger1_finger_tip_link', 'rg2_gripper_finger2_finger_link', 'rg2_gripper_finger2_inner_knuckle_link', 'rg2_gripper_finger2_finger_tip_link', 'front_object_table', 'right_object_table', 'left_object_table', 'base_table', 'obj_cylinder_01', 'obj_cylinder_02', 'obj_cylinder_03', 'obj_cylinder_04', 'obj_cylinder_05', 'obj_cylinder_06', 'obj_cylinder_07', 'obj_cylinder_08']\n",
      "n_joint:[20]\n",
      "joint_names:['shoulder_pan_joint', 'shoulder_lift_joint', 'elbow_joint', 'wrist_1_joint', 'wrist_2_joint', 'wrist_3_joint', 'gripper_finger1_joint', 'gripper_finger1_inner_knuckle_joint', 'gripper_finger1_finger_tip_joint', 'gripper_finger2_joint', 'gripper_finger2_inner_knuckle_joint', 'gripper_finger2_finger_tip_joint', None, None, None, None, None, None, None, None]\n",
      "joint_types:[3 3 3 3 3 3 3 3 3 3 3 3 0 0 0 0 0 0 0 0]\n",
      "joint_ranges:\n",
      "[[-3.14  3.14]\n",
      " [-3.14  3.14]\n",
      " [-3.14  3.14]\n",
      " [-3.14  3.14]\n",
      " [-3.14  3.14]\n",
      " [-3.14  3.14]\n",
      " [-1.    0.  ]\n",
      " [-1.    0.  ]\n",
      " [-1.    1.  ]\n",
      " [ 0.    1.  ]\n",
      " [ 0.    1.  ]\n",
      " [-1.    1.  ]\n",
      " [-3.14  3.14]\n",
      " [-3.14  3.14]\n",
      " [-3.14  3.14]\n",
      " [-3.14  3.14]\n",
      " [-3.14  3.14]\n",
      " [-3.14  3.14]\n",
      " [-3.14  3.14]\n",
      " [-3.14  3.14]]\n",
      "n_rev_joint:[12]\n",
      "rev_joint_idxs:[ 0  1  2  3  4  5  6  7  8  9 10 11]\n",
      "rev_joint_names:['shoulder_pan_joint', 'shoulder_lift_joint', 'elbow_joint', 'wrist_1_joint', 'wrist_2_joint', 'wrist_3_joint', 'gripper_finger1_joint', 'gripper_finger1_inner_knuckle_joint', 'gripper_finger1_finger_tip_joint', 'gripper_finger2_joint', 'gripper_finger2_inner_knuckle_joint', 'gripper_finger2_finger_tip_joint']\n",
      "rev_joint_mins:[-3.14 -3.14 -3.14 -3.14 -3.14 -3.14 -1.   -1.   -1.    0.    0.   -1.  ]\n",
      "rev_joint_maxs:[3.14 3.14 3.14 3.14 3.14 3.14 0.   0.   1.   1.   1.   1.  ]\n",
      "rev_joint_ranges:[6.28 6.28 6.28 6.28 6.28 6.28 1.   1.   2.   1.   1.   2.  ]\n",
      "n_pri_joint:[0]\n",
      "pri_joint_idxs:[]\n",
      "pri_joint_names:[]\n",
      "pri_joint_mins:[]\n",
      "pri_joint_maxs:[]\n",
      "pri_joint_ranges:[]\n",
      "n_ctrl:[7]\n",
      "ctrl_names:['shoulder_pan', 'shoulder_lift', 'elbow', 'wrist_1', 'wrist_2', 'wrist_3', 'gripper']\n",
      "ctrl_joint_idxs:[0, 1, 2, 3, 4, 5, 9]\n",
      "ctrl_joint_names:['shoulder_pan_joint', 'shoulder_lift_joint', 'elbow_joint', 'wrist_1_joint', 'wrist_2_joint', 'wrist_3_joint', 'gripper_finger2_joint']\n",
      "ctrl_qvel_idxs:[0, 1, 2, 3, 4, 5, 9]\n",
      "ctrl_ranges:\n",
      "[[-3.14  3.14]\n",
      " [-3.14  3.14]\n",
      " [-3.14  3.14]\n",
      " [-3.14  3.14]\n",
      " [-3.14  3.14]\n",
      " [-3.14  3.14]\n",
      " [ 0.    1.  ]]\n",
      "n_sensor:[0]\n",
      "sensor_names:[]\n",
      "n_site:[1]\n",
      "site_names:['attachment_site']\n",
      "obj_cylinder_01: [ 0.77 -0.06  0.81]\n",
      "obj_cylinder_02: [0.81 0.1  0.81]\n",
      "obj_cylinder_03: [ 0.82 -0.15  0.81]\n",
      "Ready.\n"
     ]
    }
   ],
   "source": [
    "xml_path = '../../asset/ur5e/scene_ur5e_rg2_d435i_obj_realworld.xml'\n",
    "# xml_path = '../../asset/ur5e/scene_ur5e_rg2_d435i_vbm.xml'\n",
    "env = MuJoCoParserClass(name='UR5e with RG2 gripper',rel_xml_path=xml_path,VERBOSE=True)\n",
    "\n",
    "obj_cylinder_names = [body_name for body_name in env.body_names\n",
    "             if body_name is not None and (body_name.startswith(\"obj_cylinder\"))]\n",
    "obj_box_names = [body_name for body_name in env.body_names\n",
    "                if body_name is not None and (body_name.startswith(\"obj_box\"))]\n",
    "obj_glass_names = [body_name for body_name in env.body_names\n",
    "                if body_name is not None and (body_name.startswith(\"obj_wine\"))]\n",
    "\n",
    "n_cylinder_obj = 3 # len(obj_cylinder_names)\n",
    "n_box_obj = 3 # len(obj_box_names)\n",
    "n_glass_obj = 3 # len(obj_glass_names)\n",
    "\n",
    "# Place objects\n",
    "env.place_objects(n_obj=3, obj_names=obj_cylinder_names, x_range=[0.75, 0.85], y_range=[-0.15, 0.15], COLORS=True, VERBOSE=True)\n",
    "# env.place_objects(n_obj=3, obj_names=obj_box_names, COLORS=True, VERBOSE=True) \n",
    "env.place_objects(n_obj=3, obj_names=obj_glass_names, COLORS=False, VERBOSE=True)\n",
    "\n",
    "# Move tables and robot base\n",
    "env.model.body('base_table').pos = np.array([0,0,0])\n",
    "env.model.body('front_object_table').pos = np.array([0.38+0.6,0,0])\n",
    "env.model.body('right_object_table').pos = np.array([-0.05,-0.80,0])\n",
    "env.model.body('left_object_table').pos = np.array([-0.05,0.80,0])\n",
    "env.model.body('base').pos = np.array([0.18,0,0.79])\n",
    "\n",
    "\n",
    "print (\"Ready.\")"
   ]
  },
  {
   "cell_type": "markdown",
   "metadata": {},
   "source": [
    "### Render"
   ]
  },
  {
   "cell_type": "code",
   "execution_count": 8,
   "metadata": {},
   "outputs": [
    {
     "name": "stdout",
     "output_type": "stream",
     "text": [
      "IK done.\n",
      "q_traj's L:[1259] time_max:[2.52]sec\n"
     ]
    }
   ],
   "source": [
    "# Init viewer\n",
    "env.init_viewer(viewer_title='UR5e with RG2 gripper',viewer_width=1200,viewer_height=800,\n",
    "                viewer_hide_menus=True)\n",
    "env.update_viewer(azimuth=66.08,distance=3.0,elevation=-50,lookat=[0.4,0.18,0.71],\n",
    "                  VIS_TRANSPARENT=False,VIS_CONTACTPOINT=False,\n",
    "                  contactwidth=0.05,contactheight=0.05,contactrgba=np.array([1,0,0,1]),\n",
    "                  VIS_JOINT=True,jointlength=0.25,jointwidth=0.05,jointrgba=[0.2,0.6,0.8,0.6])\n",
    "\n",
    "# Base pose\n",
    "body_name = 'tcp_link'\n",
    "p_base = env.get_p_body(body_name='base')\n",
    "\n",
    "# Straight pose\n",
    "DO_RENDER_IK = True\n",
    "p_trgt = p_base + np.array([0.4,0,0.6])\n",
    "R_trgt = rpy2r(np.radians([0,0,0]))@rpy2r(np.radians([-180,0,90]))\n",
    "q_prepose_00 = env.solve_ik(\n",
    "    body_name=body_name,p_trgt=p_trgt,R_trgt=R_trgt,IK_P=True,IK_R=True,\n",
    "    q_init=np.radians([0,-90,0,0,0,0]),idxs_forward=env.idxs_forward, idxs_jacobian=env.idxs_jacobian,\n",
    "    RESET=False,DO_RENDER=DO_RENDER_IK,render_every=1,th=1*np.pi/180.0,err_th=1e-2)\n",
    "\n",
    "# 30 deg down pose\n",
    "p_trgt = p_base + np.array([0.4,0,0.6])\n",
    "R_trgt = rpy2r(np.radians([0,30,0]))@rpy2r(np.radians([-180,0,90]))\n",
    "q_prepose_30 = env.solve_ik(\n",
    "    body_name=body_name,p_trgt=p_trgt,R_trgt=R_trgt,IK_P=True,IK_R=True,\n",
    "    q_init=q_prepose_00,idxs_forward=env.idxs_forward, idxs_jacobian=env.idxs_jacobian,\n",
    "    RESET=False,DO_RENDER=DO_RENDER_IK,render_every=1,th=1*np.pi/180.0,err_th=1e-4)\n",
    "\n",
    "# 60 deg down pose\n",
    "p_trgt = p_base + np.array([0.4,0,0.6])\n",
    "R_trgt = rpy2r(np.radians([0,60,0]))@rpy2r(np.radians([-180,0,90]))\n",
    "q_prepose_60 = env.solve_ik(\n",
    "    body_name=body_name,p_trgt=p_trgt,R_trgt=R_trgt,IK_P=True,IK_R=True,\n",
    "    q_init=q_prepose_30,idxs_forward=env.idxs_forward, idxs_jacobian=env.idxs_jacobian,\n",
    "    RESET=False,DO_RENDER=DO_RENDER_IK,render_every=1,th=1*np.pi/180.0,err_th=1e-4)\n",
    "\n",
    "env.close_viewer()\n",
    "print (\"IK done.\")\n",
    "\n",
    "# Get joint trajectory\n",
    "times,q_traj = get_interp_const_vel_traj(\n",
    "    np.vstack((q_prepose_60,q_prepose_30,q_prepose_30,q_prepose_60)),\n",
    "    vel=np.radians(30),HZ=env.HZ)\n",
    "print (\"q_traj's L:[%d] time_max:[%.2f]sec\"%(times.shape[0],times[-1]))\n"
   ]
  },
  {
   "cell_type": "code",
   "execution_count": 9,
   "metadata": {},
   "outputs": [
    {
     "name": "stdout",
     "output_type": "stream",
     "text": [
      "Pressed ESC\n",
      "Quitting.\n",
      "Done. Tick:[2052] Time:[4.10]sec\n"
     ]
    }
   ],
   "source": [
    "# Init viewer\n",
    "env.init_viewer(viewer_title='UR5e with RG2 gripper',viewer_width=1200,viewer_height=800,\n",
    "                viewer_hide_menus=True)\n",
    "env.update_viewer(azimuth=66.08,distance=3.0,elevation=-50,lookat=[0.4,0.18,0.71],\n",
    "                  VIS_TRANSPARENT=False,VIS_CONTACTPOINT=False,\n",
    "                  contactwidth=0.05,contactheight=0.05,contactrgba=np.array([1,0,0,1]),\n",
    "                  VIS_JOINT=True,jointlength=0.25,jointwidth=0.05,jointrgba=[0.2,0.6,0.8,0.6])\n",
    "\n",
    "pcd_tick = 0\n",
    "\n",
    "# Reset\n",
    "env.reset()\n",
    "env.forward(q=q_traj[0,:],joint_idxs=[0,1,2,3,4,5])\n",
    "tick,max_sec = 0,100\n",
    "while env.get_sim_time() <= max_sec:\n",
    "    # Step\n",
    "    q = np.append(q_traj[tick,:],1.0) # open gripper\n",
    "    env.step(ctrl=q,ctrl_idxs=[0,1,2,3,4,5,6])\n",
    "    tick = min(tick + 1,q_traj.shape[0]-1)\n",
    "    if not env.is_viewer_alive(): break\n",
    "        \n",
    "    # Render\n",
    "    if env.loop_every(HZ=20):\n",
    "        # Compute some poses\n",
    "        p_tcp,R_tcp = env.get_pR_body(body_name='tcp_link')\n",
    "        p_cam,R_cam = env.get_pR_body(body_name='camera_center')\n",
    "        p_base,R_base = env.get_pR_body(body_name='base')\n",
    "        # Get PCD from a specific view\n",
    "        p_ego  = p_cam\n",
    "        p_trgt = p_cam + R_cam[:,2]\n",
    "        rgb_img,depth_img,pcd,xyz_img = env.get_egocentric_rgb_depth_pcd(\n",
    "            p_ego=p_ego,p_trgt=p_trgt,rsz_rate=None,fovy=45,BACKUP_AND_RESTORE_VIEW=True)\n",
    "\n",
    "        # Save PCD\n",
    "        pcd_tick += 1\n",
    "        # for p in pcd: env.plot_sphere(p=p,r=0.005,rgba=[0.95,0.05,0.05,1])\n",
    "        env.render(render_every=1)\n",
    "        \n",
    "# Close viewer\n",
    "env.close_viewer()\n",
    "print (\"Done. Tick:[%d] Time:[%.2f]sec\"%(env.tick,env.get_sim_time()))"
   ]
  },
  {
   "attachments": {},
   "cell_type": "markdown",
   "metadata": {},
   "source": [
    "### `Passthrough` and `Downsample` the PCD"
   ]
  },
  {
   "cell_type": "code",
   "execution_count": 11,
   "metadata": {},
   "outputs": [],
   "source": [
    "# passthrough filter about z axis\n",
    "def passthrough_filter(pcd, axis, interval):\n",
    "    mask = (pcd[:, axis] > interval[0]) & (pcd[:, axis] < interval[1])\n",
    "    return pcd[mask]\n",
    "\n",
    "pcd_masked = passthrough_filter(pcd, axis=2, interval=[0.5, 1.0])\n",
    "pcd_masked_down = np.array(pcd_masked)[::50]  # downsample to visualize with markers for speed.\n",
    "voxel_grid_down = point_cloud_to_voxel(pcd_masked_down, voxel_size)"
   ]
  },
  {
   "attachments": {},
   "cell_type": "markdown",
   "metadata": {},
   "source": [
    "### `Voxelize` pcd"
   ]
  },
  {
   "cell_type": "code",
   "execution_count": 12,
   "metadata": {},
   "outputs": [],
   "source": [
    "import numpy as np\n",
    "\n",
    "point_cloud_data = pcd_masked_down\n",
    "voxel_size = 0.005  # size of each voxel\n",
    "\n",
    "# Shift the point cloud to the origin and discretize it.\n",
    "discrete_point_cloud = np.floor(point_cloud_data / voxel_size).astype(np.int32)\n",
    "# Remove duplicates: this will give us the occupied voxels.\n",
    "occupied_voxels = np.unique(discrete_point_cloud, axis=0)"
   ]
  },
  {
   "cell_type": "code",
   "execution_count": 13,
   "metadata": {},
   "outputs": [
    {
     "data": {
      "application/vnd.jupyter.widget-view+json": {
       "model_id": "888a043ed2c043c495f6251b1caa492c",
       "version_major": 2,
       "version_minor": 0
      },
      "text/plain": [
       "Widget(value=\"<iframe src='http://localhost:39695/index.html?ui=P_0x7ff70c0ce580_0&reconnect=auto' style='widt…"
      ]
     },
     "metadata": {},
     "output_type": "display_data"
    }
   ],
   "source": [
    "import pyvista as pv\n",
    "\n",
    "# Create a new unstructured grid\n",
    "grid = pv.UnstructuredGrid()\n",
    "\n",
    "# Add the voxels to the grid\n",
    "for voxel in occupied_voxels:\n",
    "    voxel = voxel * voxel_size  # convert back to original scale\n",
    "    cube = pv.Cube(center=voxel, x_length=voxel_size, y_length=voxel_size, z_length=voxel_size)\n",
    "    grid = grid.merge(cube)\n",
    "\n",
    "# Visualize the voxel grid\n",
    "grid.plot()\n"
   ]
  },
  {
   "cell_type": "code",
   "execution_count": 16,
   "metadata": {},
   "outputs": [],
   "source": [
    "### pcd color information\n",
    "pcd_masked_down_idx = np.round(pcd_masked_down[:, :2]).astype(np.int32)\n",
    "pcd_masked_dowwn_color = rgb_img[pcd_masked_down_idx[:,0], pcd_masked_down_idx[:,1], :]\n",
    "pcd_masked_dowwn_color = pcd_masked_dowwn_color.astype(np.float32) / 255.0\n",
    "\n",
    "pcd_masked_down_pcdrgb = np.concatenate([pcd_masked_down, pcd_masked_dowwn_color], axis=1)"
   ]
  },
  {
   "cell_type": "code",
   "execution_count": 19,
   "metadata": {},
   "outputs": [
    {
     "data": {
      "application/vnd.jupyter.widget-view+json": {
       "model_id": "af9645f66f1e4175a46d73e287352bbb",
       "version_major": 2,
       "version_minor": 0
      },
      "text/plain": [
       "Widget(value=\"<iframe src='http://localhost:39695/index.html?ui=P_0x7ff66f3985b0_2&reconnect=auto' style='widt…"
      ]
     },
     "metadata": {},
     "output_type": "display_data"
    }
   ],
   "source": [
    "import numpy as np\n",
    "import pyvista as pv\n",
    "\n",
    "cloud = pv.PolyData(pcd_masked_down_pcdrgb[:, :3])\n",
    "# Colorize the point cloud if it has color information\n",
    "if pcd_masked_dowwn_color is not None:\n",
    "    cloud[\"colors\"] = pcd_masked_dowwn_color / 255  # Normalize the colors to [0, 1]\n",
    "\n",
    "plotter = pv.Plotter()\n",
    "plotter.add_points(cloud, scalars=\"colors\")\n",
    "plotter.show()\n"
   ]
  },
  {
   "attachments": {},
   "cell_type": "markdown",
   "metadata": {},
   "source": [
    "### Visualize `PCD` and `Voxel grid` at the same time   "
   ]
  },
  {
   "cell_type": "code",
   "execution_count": 16,
   "metadata": {},
   "outputs": [
    {
     "data": {
      "application/vnd.jupyter.widget-view+json": {
       "model_id": "3db4b4a9242f4a55be7622b24e237d79",
       "version_major": 2,
       "version_minor": 0
      },
      "text/plain": [
       "Widget(value=\"<iframe src='http://localhost:41691/index.html?ui=P_0x7fa0644688b0_8&reconnect=auto' style='widt…"
      ]
     },
     "metadata": {},
     "output_type": "display_data"
    }
   ],
   "source": [
    "import numpy as np\n",
    "import pyvista as pv\n",
    "\n",
    "cloud = pv.PolyData(pcd_masked[:, :3])\n",
    "# cloud = pv.PolyData(pcd_masked_down[:, :3])\n",
    "\n",
    "if point_cloud_data.shape[1] == 6:\n",
    "    # Normalize the colors to [0, 1]\n",
    "    cloud.point_arrays[\"colors\"] = point_cloud_data[:, 3:] / 255\n",
    "grid = pv.UnstructuredGrid()\n",
    "\n",
    "for voxel in occupied_voxels:\n",
    "    voxel = voxel * voxel_size\n",
    "    cube = pv.Cube(center=voxel, x_length=voxel_size, y_length=voxel_size, z_length=voxel_size)\n",
    "    grid = grid.merge(cube)\n",
    "\n",
    "plotter = pv.Plotter()\n",
    "# plotter.add_points(cloud, scalars=\"colors\" if point_cloud_data.shape[1] == 6 else None) # Colorize the point cloud\n",
    "plotter.add_points(cloud, color=\"grey\")\n",
    "plotter.add_mesh(grid, color=\"blue\", opacity=0.8)\n",
    "\n",
    "# Show the plot\n",
    "plotter.show()\n"
   ]
  },
  {
   "cell_type": "code",
   "execution_count": null,
   "metadata": {},
   "outputs": [],
   "source": []
  },
  {
   "attachments": {},
   "cell_type": "markdown",
   "metadata": {},
   "source": [
    "### ETC: Voxelize `pointcloud` data: `nd.array` type"
   ]
  },
  {
   "cell_type": "code",
   "execution_count": null,
   "metadata": {},
   "outputs": [],
   "source": [
    "import numpy as np\n",
    "\n",
    "def point_cloud_to_voxel(point_cloud, voxel_size):\n",
    "    # Calculate voxel grid dimensions\n",
    "    min_coords = np.min(point_cloud, axis=0)\n",
    "    max_coords = np.max(point_cloud, axis=0)\n",
    "    grid_dims = np.ceil((max_coords - min_coords) / voxel_size).astype(int)\n",
    "\n",
    "    # Create an empty voxel grid\n",
    "    voxel_grid = np.zeros(grid_dims, dtype=np.uint8)\n",
    "\n",
    "    # Iterate over points and set voxel occupancy\n",
    "    for point in point_cloud:\n",
    "        voxel_index = np.floor((point - min_coords) / voxel_size).astype(int)\n",
    "        voxel_grid[tuple(voxel_index)] = 1\n",
    "\n",
    "    return voxel_grid\n",
    "\n",
    "voxel_size = 0.05\n",
    "voxel_grid = point_cloud_to_voxel(pcd, voxel_size)"
   ]
  }
 ],
 "metadata": {
  "kernelspec": {
   "display_name": "llm",
   "language": "python",
   "name": "python3"
  },
  "language_info": {
   "codemirror_mode": {
    "name": "ipython",
    "version": 3
   },
   "file_extension": ".py",
   "mimetype": "text/x-python",
   "name": "python",
   "nbconvert_exporter": "python",
   "pygments_lexer": "ipython3",
   "version": "3.8.13"
  },
  "orig_nbformat": 4
 },
 "nbformat": 4,
 "nbformat_minor": 2
}
