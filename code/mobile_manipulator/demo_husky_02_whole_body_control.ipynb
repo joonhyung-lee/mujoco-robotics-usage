{
 "cells": [
  {
   "cell_type": "markdown",
   "id": "605b549c",
   "metadata": {},
   "source": [
    "### Parse `Husky`"
   ]
  },
  {
   "cell_type": "code",
   "execution_count": 16,
   "id": "367a2c43",
   "metadata": {},
   "outputs": [
    {
     "name": "stdout",
     "output_type": "stream",
     "text": [
      "MuJoCo version:[2.3.7]\n"
     ]
    }
   ],
   "source": [
    "import mujoco\n",
    "import numpy as np\n",
    "import matplotlib.pyplot as plt\n",
    "import sys\n",
    "sys.path.append('../../')\n",
    "from utils.mujoco_parser import MuJoCoParserClass\n",
    "from utils.util import r2rpy\n",
    "np.set_printoptions(precision=2,suppress=True,linewidth=100)\n",
    "plt.rc('xtick',labelsize=6); plt.rc('ytick',labelsize=6)\n",
    "%config InlineBackend.figure_format = 'retina'\n",
    "%matplotlib inline\n",
    "print (\"MuJoCo version:[%s]\"%(mujoco.__version__))"
   ]
  },
  {
   "attachments": {},
   "cell_type": "markdown",
   "id": "4f777719",
   "metadata": {},
   "source": [
    "### Parse `scene_husky_w_ur5_rg2_d435i.xml`"
   ]
  },
  {
   "cell_type": "code",
   "execution_count": 17,
   "id": "4659562d",
   "metadata": {
    "scrolled": true
   },
   "outputs": [
    {
     "name": "stdout",
     "output_type": "stream",
     "text": [
      "dt:[0.0020] HZ:[500]\n",
      "n_dof (=nv):[70]\n",
      "n_geom:[67]\n",
      "geom_names:['floor', None, None, None, None, None, None, None, None, None, None, None, None, None, None, None, None, None, None, None, None, None, None, None, None, None, None, None, None, None, None, None, None, None, None, None, None, None, None, None, None, None, None, None, None, None, None, None, None, None, None, None, None, None, None, None, None, None, None, None, None, None, None, None, None, None, None]\n",
      "n_body:[32]\n",
      "body_names:['world', 'base_husky', 'front_left_wheel_link', 'front_right_wheel_link', 'rear_left_wheel_link', 'rear_right_wheel_link', 'base_ur5e', 'shoulder_link', 'upper_arm_link', 'forearm_link', 'wrist_1_link', 'wrist_2_link', 'wrist_3_link', 'tcp_link', 'camera_mount', 'd435i', 'rg2_gripper_base_link', 'camera_center', 'rg2_gripper_finger1_finger_link', 'rg2_gripper_finger1_inner_knuckle_link', 'rg2_gripper_finger1_finger_tip_link', 'rg2_gripper_finger2_finger_link', 'rg2_gripper_finger2_inner_knuckle_link', 'rg2_gripper_finger2_finger_tip_link', 'obj_cylinder_01', 'obj_cylinder_02', 'obj_cylinder_03', 'obj_cylinder_04', 'obj_cylinder_05', 'obj_cylinder_06', 'obj_cylinder_07', 'obj_cylinder_08']\n",
      "n_joint:[25]\n",
      "joint_names:['base_husky_joint', 'front_left_wheel', 'front_right_wheel', 'rear_left_wheel', 'rear_right_wheel', 'shoulder_pan_joint', 'shoulder_lift_joint', 'elbow_joint', 'wrist_1_joint', 'wrist_2_joint', 'wrist_3_joint', 'gripper_finger1_joint', 'gripper_finger1_inner_knuckle_joint', 'gripper_finger1_finger_tip_joint', 'gripper_finger2_joint', 'gripper_finger2_inner_knuckle_joint', 'gripper_finger2_finger_tip_joint', None, None, None, None, None, None, None, None]\n",
      "joint_types:[0 3 3 3 3 3 3 3 3 3 3 3 3 3 3 3 3 0 0 0 0 0 0 0 0]\n",
      "joint_ranges:\n",
      "[[ 0.    0.  ]\n",
      " [ 0.    0.  ]\n",
      " [ 0.    0.  ]\n",
      " [ 0.    0.  ]\n",
      " [ 0.    0.  ]\n",
      " [ 0.    0.  ]\n",
      " [ 0.    0.  ]\n",
      " [-3.14  3.14]\n",
      " [ 0.    0.  ]\n",
      " [ 0.    0.  ]\n",
      " [ 0.    0.  ]\n",
      " [-1.    0.  ]\n",
      " [-1.    0.  ]\n",
      " [-1.    1.  ]\n",
      " [ 0.    1.  ]\n",
      " [ 0.    1.  ]\n",
      " [-1.    1.  ]\n",
      " [ 0.    0.  ]\n",
      " [ 0.    0.  ]\n",
      " [ 0.    0.  ]\n",
      " [ 0.    0.  ]\n",
      " [ 0.    0.  ]\n",
      " [ 0.    0.  ]\n",
      " [ 0.    0.  ]\n",
      " [ 0.    0.  ]]\n",
      "n_rev_joint:[16]\n",
      "rev_joint_idxs:[ 1  2  3  4  5  6  7  8  9 10 11 12 13 14 15 16]\n",
      "rev_joint_names:['front_left_wheel', 'front_right_wheel', 'rear_left_wheel', 'rear_right_wheel', 'shoulder_pan_joint', 'shoulder_lift_joint', 'elbow_joint', 'wrist_1_joint', 'wrist_2_joint', 'wrist_3_joint', 'gripper_finger1_joint', 'gripper_finger1_inner_knuckle_joint', 'gripper_finger1_finger_tip_joint', 'gripper_finger2_joint', 'gripper_finger2_inner_knuckle_joint', 'gripper_finger2_finger_tip_joint']\n",
      "rev_joint_mins:[ 0.    0.    0.    0.    0.    0.   -3.14  0.    0.    0.   -1.   -1.   -1.    0.    0.   -1.  ]\n",
      "rev_joint_maxs:[0.   0.   0.   0.   0.   0.   3.14 0.   0.   0.   0.   0.   1.   1.   1.   1.  ]\n",
      "rev_joint_ranges:[0.   0.   0.   0.   0.   0.   6.28 0.   0.   0.   1.   1.   2.   1.   1.   2.  ]\n",
      "n_pri_joint:[0]\n",
      "pri_joint_idxs:[]\n",
      "pri_joint_names:[]\n",
      "pri_joint_mins:[]\n",
      "pri_joint_maxs:[]\n",
      "pri_joint_ranges:[]\n",
      "n_ctrl:[11]\n",
      "ctrl_names:['front_left_actuator', 'front_right_actuator', 'rear_left_actuator', 'rear_right_actuator', 'shoulder_pan', 'shoulder_lift', 'elbow', 'wrist_1', 'wrist_2', 'wrist_3', 'gripper']\n",
      "ctrl_joint_idxs:[7, 8, 9, 10, 11, 12, 13, 14, 15, 16, 20]\n",
      "ctrl_joint_names:['front_left_wheel', 'front_right_wheel', 'rear_left_wheel', 'rear_right_wheel', 'shoulder_pan_joint', 'shoulder_lift_joint', 'elbow_joint', 'wrist_1_joint', 'wrist_2_joint', 'wrist_3_joint', 'gripper_finger2_joint']\n",
      "ctrl_qvel_idxs:[6, 7, 8, 9, 10, 11, 12, 13, 14, 15, 19]\n",
      "ctrl_ranges:\n",
      "[[-100.    100.  ]\n",
      " [-100.    100.  ]\n",
      " [-100.    100.  ]\n",
      " [-100.    100.  ]\n",
      " [  -6.28    6.28]\n",
      " [  -6.28    6.28]\n",
      " [  -3.14    3.14]\n",
      " [  -6.28    6.28]\n",
      " [  -6.28    6.28]\n",
      " [  -6.28    6.28]\n",
      " [   0.      1.  ]]\n",
      "n_sensor:[0]\n",
      "sensor_names:[]\n",
      "n_site:[1]\n",
      "site_names:['attachment_site']\n",
      "[Husky] parsed.\n",
      "obj_cylinder_01: [-1.84 -0.5   0.2 ]\n",
      "obj_cylinder_02: [-1.56  0.05  0.21]\n",
      "obj_cylinder_03: [-1.64  0.08  0.29]\n",
      "obj_cylinder_04: [-1.76  0.04  0.21]\n",
      "obj_cylinder_05: [-1.6  -0.33  0.3 ]\n",
      "obj_cylinder_06: [-1.87  0.4   0.24]\n",
      "obj_cylinder_07: [-1.84  0.18  0.22]\n",
      "obj_cylinder_08: [-1.86 -0.07  0.28]\n"
     ]
    }
   ],
   "source": [
    "xml_path = '../../asset/husky/scene_husky_w_ur5_rg2_d435i.xml'\n",
    "env = MuJoCoParserClass(name='Husky',rel_xml_path=xml_path,VERBOSE=True)\n",
    "print (\"[%s] parsed.\"%(env.name))\n",
    "\n",
    "## spawn arbitrary objects\n",
    "obj_cylinder_names = [body_name for body_name in env.body_names\n",
    "             if body_name is not None and (body_name.startswith(\"obj_cylinder\"))]\n",
    "\n",
    "n_cylinder_obj = len(obj_cylinder_names)\n",
    "\n",
    "# Place objects\n",
    "env.place_objects(n_obj=n_cylinder_obj, obj_names=obj_cylinder_names, x_range=[-1.5, -2.0], y_range=[-0.5, 0.5], z_range=[0.2, 0.3], COLORS=True, VERBOSE=True)"
   ]
  },
  {
   "cell_type": "markdown",
   "id": "5ee05448",
   "metadata": {},
   "source": [
    "### Render"
   ]
  },
  {
   "cell_type": "code",
   "execution_count": 18,
   "id": "dfedc033",
   "metadata": {
    "scrolled": true
   },
   "outputs": [
    {
     "name": "stdout",
     "output_type": "stream",
     "text": [
      "Pressed ESC\n",
      "Quitting.\n",
      "Time:[0.61]sec. Done.\n"
     ]
    }
   ],
   "source": [
    "env.init_viewer(viewer_title='Husky',viewer_width=1200,viewer_height=800,\n",
    "                viewer_hide_menus=True)\n",
    "env.update_viewer(azimuth=107.08,distance=2.5,elevation=-27,lookat=[0.4,0.3,0.2],\n",
    "                  VIS_TRANSPARENT=False,VIS_CONTACTPOINT=True,\n",
    "                  contactwidth=0.1,contactheight=0.1,contactrgba=np.array([1,0,0,1]),\n",
    "                  VIS_JOINT=True,jointlength=0.5,jointwidth=0.1,jointrgba=[0.2,0.6,0.8,0.6])\n",
    "# Initial UR5e Pose\n",
    "init_ur_q = np.array([np.deg2rad(-90), np.deg2rad(-130), np.deg2rad(120), np.deg2rad(100), np.deg2rad(45), np.deg2rad(-90)])\n",
    "\n",
    "# Change controller gain\n",
    "for ctrl_name in env.ctrl_names:\n",
    "    kv = 1\n",
    "    # env.model.actuator(ctrl_name).gainprm[0] = kv\n",
    "    # env.model.actuator(ctrl_name).biasprm[2] = -kv\n",
    "\n",
    "env.reset()\n",
    "while (env.get_sim_time() < 100.0) and env.is_viewer_alive():\n",
    "    # Step\n",
    "    ctrl_husky = 5*np.array([1,1,1,1]) # rotate:[5,-5,5,-5] straight:[5,5,5,5]\n",
    "    ctrl_wholebody = ctrl_husky.tolist() + init_ur_q.tolist()\n",
    "    # env.step(ctrl=ctrl_husky, ctrl_idxs=[0,1,2,3])\n",
    "    env.step(ctrl=ctrl_wholebody, ctrl_idxs=[0,1,2,3,4,5,6,7,8,9])\n",
    "    # Do render\n",
    "    if env.loop_every(HZ=30) or (env.tick == 1):\n",
    "        # Update viewer information\n",
    "        p_base = env.get_p_body(body_name='base_husky')\n",
    "        env.update_viewer(lookat=p_base,CALL_MUJOCO_FUNC=False)\n",
    "        # Render contact information\n",
    "        PLOT_CONTACT = True\n",
    "        if PLOT_CONTACT:\n",
    "            p_contacts,f_contacts,geom1s,geom2s, _,_ = env.get_contact_info()\n",
    "            for (p_contact,f_contact,geom1,geom2) in zip(p_contacts,f_contacts,geom1s,geom2s):\n",
    "                f_norm = np.linalg.norm(f_contact)\n",
    "                f_uv = f_contact / (f_norm+1e-8)\n",
    "                f_len = 0.3 # f_norm*0.05\n",
    "                label = '' #'[%s]-[%s]'%(geom1,geom2)\n",
    "                # env.plot_arrow(p=p_contact,uv=f_uv,r_stem=0.01,len_arrow=f_len,rgba=[1,0,0,0.4],label='')\n",
    "                # env.plot_arrow(p=p_contact,uv=-f_uv,r_stem=0.01,len_arrow=f_len,rgba=[1,0,0,0.4],label='')\n",
    "                # env.plot_sphere(p=p_contact,r=0.0001,label=label)\n",
    "        env.plot_T(p=np.zeros(3),R=np.eye(3,3),PLOT_AXIS=True,axis_len=1.0,axis_width=0.01)\n",
    "        env.plot_body_T(body_name='base_husky',PLOT_AXIS=True,axis_len=0.1,axis_width=0.01)\n",
    "        env.plot_body_T(body_name='front_left_wheel_link',PLOT_AXIS=True,axis_len=0.1,axis_width=0.01)\n",
    "        env.plot_body_T(body_name='front_right_wheel_link',PLOT_AXIS=True,axis_len=0.1,axis_width=0.01)\n",
    "        env.plot_body_T(body_name='rear_left_wheel_link',PLOT_AXIS=True,axis_len=0.1,axis_width=0.01)\n",
    "        env.plot_body_T(body_name='rear_right_wheel_link',PLOT_AXIS=True,axis_len=0.1,axis_width=0.01)\n",
    "        env.plot_T(p=p_base+np.array([0,0,0.5]),R=np.eye(3,3),\n",
    "                   PLOT_AXIS=False,label='[%.2f]sec'%(env.get_sim_time()))\n",
    "        env.render()\n",
    "        \n",
    "# Close viewer\n",
    "env.close_viewer()\n",
    "print (\"Time:[%.2f]sec. Done.\"%(env.get_sim_time()))"
   ]
  },
  {
   "cell_type": "code",
   "execution_count": 19,
   "id": "8d51146b",
   "metadata": {},
   "outputs": [
    {
     "name": "stdout",
     "output_type": "stream",
     "text": [
      "Pressed ESC\n",
      "Quitting.\n",
      "Time:[0.71]sec. Done.\n"
     ]
    }
   ],
   "source": [
    "env.init_viewer(viewer_title='Husky',viewer_width=1200,viewer_height=800,\n",
    "                viewer_hide_menus=True)\n",
    "env.update_viewer(azimuth=107.08,distance=2.5,elevation=-27,lookat=[0.4,0.3,0.2],\n",
    "                  VIS_TRANSPARENT=False,VIS_CONTACTPOINT=True,\n",
    "                  contactwidth=0.1,contactheight=0.1,contactrgba=np.array([1,0,0,1]),\n",
    "                  VIS_JOINT=True,jointlength=0.5,jointwidth=0.1,jointrgba=[0.2,0.6,0.8,0.6])\n",
    "\n",
    "husky_base_pos_list = []\n",
    "wheel_radius = 0.17775 / 2.0\n",
    "wheel_base = 0.2854 * 2\n",
    "# Define the velocity gains\n",
    "v_max = 5.0  # maximum linear velocity, in m/s\n",
    "w_max = 50.0  # maximum angular velocity, in rad/s\n",
    "p_target = np.array([5, -1.5, 0.5])\n",
    "env.reset()\n",
    "\n",
    "# # Initial UR5e Pose\n",
    "# init_ur_q = np.array([np.deg2rad(-90), np.deg2rad(-130), np.deg2rad(120), np.deg2rad(100), np.deg2rad(45), np.deg2rad(-90)])\n",
    "# env.forward(q=init_ur_q, joint_idxs=[4,5,6,7,8,9])\n",
    "\n",
    "while (env.get_sim_time() < 100.0) and env.is_viewer_alive():\n",
    "\n",
    "    # Get the current position of the vehicle from the simulation\n",
    "    p_base = env.get_p_body('base_husky')\n",
    "    d_pos = p_target[:2] - p_base[:2]\n",
    "    # Calculate the distance to the target point\n",
    "    distance = np.linalg.norm(d_pos)\n",
    "    if distance < 0.1:\n",
    "        break\n",
    "\n",
    "    R_base = r2rpy(env.get_R_body('base_husky'))\n",
    "    heading = np.arctan2(d_pos[1], d_pos[0]) - R_base[2]\n",
    "    heading = np.mod(heading + np.pi, 2*np.pi) - np.pi\n",
    "    \n",
    "    # compute desired linear and angular velocities\n",
    "    linear_vel = v_max * np.tanh(distance)\n",
    "    angular_vel = w_max * np.tanh(heading)\n",
    "    \n",
    "    # compute wheel speeds for forward motion\n",
    "    vl = linear_vel - (angular_vel * wheel_base / 2)\n",
    "    vr = linear_vel + (angular_vel * wheel_base / 2)\n",
    "\n",
    "    # Update the simulation state\n",
    "    ctrl_husky = np.array([vl,vr,vl,vr])\n",
    "    ctrl_wholebody = ctrl_husky.tolist() + init_ur_q.tolist()\n",
    "    # env.step(ctrl=ctrl_husky, ctrl_idxs=[0,1,2,3])\n",
    "    env.step(ctrl=ctrl_wholebody, ctrl_idxs=[0,1,2,3,4,5,6,7,8,9])\n",
    "    # Do render\n",
    "    if env.loop_every(HZ=30) or (env.tick == 1):\n",
    "        # Update viewer information\n",
    "\n",
    "        env.plot_sphere(p=p_target,r=0.1,rgba=[1,1,1,1],label='')\n",
    "        env.plot_T(p=p_base+np.array([0,0,0.5]),R=np.eye(3,3),\n",
    "                   PLOT_AXIS=False,label='[%.2f]sec'%(env.get_sim_time()))\n",
    "        \n",
    "        husky_base_pos_list.append(env.get_p_body('base_husky'))\n",
    "        for p in np.array(husky_base_pos_list)[::5]:\n",
    "            env.plot_sphere(p=p+np.array([0,0,0.3]), r=0.01) \n",
    "        env.render()\n",
    "    \n",
    "# Close viewer\n",
    "env.close_viewer()\n",
    "print (\"Time:[%.2f]sec. Done.\"%(env.get_sim_time()))\n",
    "\n"
   ]
  },
  {
   "cell_type": "code",
   "execution_count": 20,
   "id": "6007cd9f",
   "metadata": {},
   "outputs": [
    {
     "name": "stdout",
     "output_type": "stream",
     "text": [
      "obj_cylinder_01: [ 5.98 -1.47  0.5 ]\n"
     ]
    }
   ],
   "source": [
    "## spawn arbitrary objects\n",
    "obj_cylinder_names = [body_name for body_name in env.body_names\n",
    "             if body_name is not None and (body_name.startswith(\"obj_cylinder\"))]\n",
    "\n",
    "n_cylinder_obj = 1 # len(obj_cylinder_names)\n",
    "\n",
    "# Place objects\n",
    "env.place_objects(n_obj=n_cylinder_obj, obj_names=obj_cylinder_names, x_range=[p_target[0]+0.7, p_target[0]+1.0], y_range=[p_target[1], p_target[1]+0.1], z_range=[p_target[2], p_target[2]], COLORS=True, VERBOSE=True)"
   ]
  },
  {
   "cell_type": "code",
   "execution_count": 37,
   "id": "2166f0c8",
   "metadata": {},
   "outputs": [
    {
     "name": "stdout",
     "output_type": "stream",
     "text": [
      "Pressed ESC\n",
      "Quitting.\n",
      "Time:[15.39]sec. Done.\n"
     ]
    }
   ],
   "source": [
    "env.init_viewer(viewer_title='Husky',viewer_width=1200,viewer_height=800,\n",
    "                viewer_hide_menus=True)\n",
    "env.update_viewer(azimuth=107.08,distance=2.5,elevation=-27,lookat=[0.4,0.3,0.2],\n",
    "                  VIS_TRANSPARENT=False,VIS_CONTACTPOINT=True,\n",
    "                  contactwidth=0.1,contactheight=0.1,contactrgba=np.array([1,0,0,1]),\n",
    "                  VIS_JOINT=True,jointlength=0.5,jointwidth=0.1,jointrgba=[0.2,0.6,0.8,0.6])\n",
    "\n",
    "husky_base_pos_list = []\n",
    "wheel_radius = 0.17775 / 2.0\n",
    "wheel_base = 0.2854 * 2\n",
    "# Define the velocity gains\n",
    "v_max = 5.0  # maximum linear velocity, in m/s\n",
    "w_max = 50.0  # maximum angular velocity, in rad/s\n",
    "p_target = np.array([5, -1.5, 0.5])\n",
    "STEP = None\n",
    "env.reset()\n",
    "\n",
    "while (env.get_sim_time() < 100.0) and env.is_viewer_alive():\n",
    "\n",
    "    # Get the current position of the vehicle from the simulation\n",
    "    p_base = env.get_p_body('base_husky')\n",
    "    d_pos = p_target[:2] - p_base[:2]\n",
    "    # Calculate the distance to the target point\n",
    "    distance = np.linalg.norm(d_pos)\n",
    "    if distance < 0.1:\n",
    "        STEP = \"MANIPULATE\"\n",
    "        # break\n",
    "\n",
    "    R_base = r2rpy(env.get_R_body('base_husky'))\n",
    "    heading = np.arctan2(d_pos[1], d_pos[0]) - R_base[2]\n",
    "    heading = np.mod(heading + np.pi, 2*np.pi) - np.pi\n",
    "    \n",
    "    # compute desired linear and angular velocities\n",
    "    linear_vel = v_max * np.tanh(distance)\n",
    "    angular_vel = w_max * np.tanh(heading)\n",
    "    \n",
    "    # compute wheel speeds for forward motion\n",
    "    vl = linear_vel - (angular_vel * wheel_base / 2)\n",
    "    vr = linear_vel + (angular_vel * wheel_base / 2)\n",
    "\n",
    "    # Update the simulation state\n",
    "    if STEP == \"MANIPULATE\":\n",
    "        ctrl_husky = np.zeros(4)\n",
    "        ctrl_ur = q_ik\n",
    "        ctrl_wholebody = ctrl_husky.tolist() + ctrl_ur.tolist()\n",
    "        # env.step(ctrl=ctrl_husky, ctrl_idxs=[0,1,2,3])\n",
    "        env.step(ctrl=ctrl_wholebody, ctrl_idxs=[0,1,2,3,4,5,6,7,8,9])\n",
    "    else:\n",
    "        ctrl_husky = np.array([vl,vr,vl,vr])\n",
    "        ctrl_wholebody = ctrl_husky.tolist() + init_ur_q.tolist()\n",
    "        env.step(ctrl=ctrl_wholebody, ctrl_idxs=[0,1,2,3,4,5,6,7,8,9])\n",
    "    # Do render\n",
    "    if env.loop_every(HZ=30) or (env.tick == 1):\n",
    "        # Update viewer information\n",
    "\n",
    "        env.plot_sphere(p=p_target,r=0.1,rgba=[1,1,1,1],label='')\n",
    "        env.plot_T(p=p_base+np.array([0,0,0.5]),R=np.eye(3,3),\n",
    "                   PLOT_AXIS=False,label='[%.2f]sec'%(env.get_sim_time()))\n",
    "        \n",
    "        husky_base_pos_list.append(env.get_p_body('base_husky'))\n",
    "        for p in np.array(husky_base_pos_list)[::5]:\n",
    "            env.plot_sphere(p=p+np.array([0,0,0.3]), r=0.01) \n",
    "        env.render()\n",
    "    \n",
    "# Close viewer\n",
    "env.close_viewer()\n",
    "print (\"Time:[%.2f]sec. Done.\"%(env.get_sim_time()))\n",
    "\n"
   ]
  },
  {
   "cell_type": "code",
   "execution_count": 22,
   "id": "b9320548",
   "metadata": {},
   "outputs": [
    {
     "name": "stdout",
     "output_type": "stream",
     "text": [
      "[ 5.98 -1.47  0.22]\n",
      "[-1.56  0.05 -0.01]\n",
      "[-1.64  0.08  0.01]\n",
      "[-1.76  0.04 -0.01]\n",
      "[-1.6  -0.33  0.02]\n",
      "[-1.87  0.4  -0.01]\n",
      "[-1.84  0.18 -0.01]\n",
      "[-1.86 -0.07  0.  ]\n"
     ]
    }
   ],
   "source": [
    "# Target object\n",
    "for idx, obj_name in enumerate(obj_cylinder_names):\n",
    "    print(env.get_p_body(obj_name))"
   ]
  },
  {
   "cell_type": "code",
   "execution_count": 27,
   "id": "76fac83c",
   "metadata": {},
   "outputs": [
    {
     "data": {
      "text/plain": [
       "[6, 7, 8, 9, 10, 11, 12]"
      ]
     },
     "execution_count": 27,
     "metadata": {},
     "output_type": "execute_result"
    }
   ],
   "source": [
    "env.idxs_jacobian"
   ]
  },
  {
   "cell_type": "code",
   "execution_count": 34,
   "id": "98bd2e02",
   "metadata": {},
   "outputs": [
    {
     "name": "stdout",
     "output_type": "stream",
     "text": [
      "Done.\n"
     ]
    }
   ],
   "source": [
    "env.init_viewer(viewer_title='UR5e with RG2 gripper',viewer_width=1200,viewer_height=800,\n",
    "                viewer_hide_menus=True)\n",
    "env.update_viewer(azimuth=0.0,distance=3.5,elevation=-60,lookat=[0.4,0.05,0.36],\n",
    "                  VIS_TRANSPARENT=False,VIS_CONTACTPOINT=True,\n",
    "                  contactwidth=0.05,contactheight=0.05,contactrgba=np.array([1,0,0,1]),\n",
    "                  VIS_JOINT=True,jointlength=0.5,jointwidth=0.1,jointrgba=[0.2,0.6,0.8,0.6])\n",
    "env.reset()\n",
    "\n",
    "p_trgt = env.get_p_body('obj_cylinder_01')\n",
    "R_trgt = env.get_R_body('obj_cylinder_01')\n",
    "q_ik = env.solve_ik('obj_cylinder_01',p_trgt,R_trgt,IK_P=True,IK_R=True,q_init=init_ur_q,rev_joint_idxs=[4,5,6,7,8,9],\n",
    "                 RESET=False,DO_RENDER=True,render_every=1,th=1*np.pi/180.0,err_th=1e-6)\n",
    "\n",
    "# Close viewer\n",
    "env.close_viewer()\n",
    "print (\"Done.\")\n"
   ]
  },
  {
   "cell_type": "code",
   "execution_count": 35,
   "id": "5a22006a",
   "metadata": {},
   "outputs": [
    {
     "data": {
      "text/plain": [
       "array([-0.45, -0.65,  0.6 ,  1.75,  0.79, -1.57])"
      ]
     },
     "execution_count": 35,
     "metadata": {},
     "output_type": "execute_result"
    }
   ],
   "source": [
    "q_ik"
   ]
  },
  {
   "cell_type": "code",
   "execution_count": 32,
   "id": "1b80b377",
   "metadata": {},
   "outputs": [
    {
     "data": {
      "text/plain": [
       "array([0. , 0. , 0.1])"
      ]
     },
     "execution_count": 32,
     "metadata": {},
     "output_type": "execute_result"
    }
   ],
   "source": []
  },
  {
   "cell_type": "code",
   "execution_count": null,
   "id": "aa6370df",
   "metadata": {},
   "outputs": [],
   "source": []
  }
 ],
 "metadata": {
  "kernelspec": {
   "display_name": "Python 3 (ipykernel)",
   "language": "python",
   "name": "python3"
  },
  "language_info": {
   "codemirror_mode": {
    "name": "ipython",
    "version": 3
   },
   "file_extension": ".py",
   "mimetype": "text/x-python",
   "name": "python",
   "nbconvert_exporter": "python",
   "pygments_lexer": "ipython3",
   "version": "3.8.13"
  }
 },
 "nbformat": 4,
 "nbformat_minor": 5
}
