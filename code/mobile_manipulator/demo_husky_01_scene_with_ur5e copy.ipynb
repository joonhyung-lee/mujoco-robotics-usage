{
 "cells": [
  {
   "cell_type": "markdown",
   "id": "605b549c",
   "metadata": {},
   "source": [
    "### Parse `Husky`"
   ]
  },
  {
   "cell_type": "code",
   "execution_count": 1,
   "id": "367a2c43",
   "metadata": {},
   "outputs": [
    {
     "name": "stdout",
     "output_type": "stream",
     "text": [
      "MuJoCo version:[2.3.7]\n"
     ]
    },
    {
     "name": "stderr",
     "output_type": "stream",
     "text": [
      "/home/rilab/.pyenv/versions/3.8.13/envs/llm/lib/python3.8/site-packages/scipy/__init__.py:146: UserWarning: A NumPy version >=1.16.5 and <1.23.0 is required for this version of SciPy (detected version 1.24.4\n",
      "  warnings.warn(f\"A NumPy version >={np_minversion} and <{np_maxversion}\"\n"
     ]
    }
   ],
   "source": [
    "import mujoco\n",
    "import numpy as np\n",
    "import matplotlib.pyplot as plt\n",
    "import sys\n",
    "sys.path.append('../../')\n",
    "from utils.mujoco_parser import MuJoCoParserClass\n",
    "from utils.util import r2rpy\n",
    "np.set_printoptions(precision=2,suppress=True,linewidth=100)\n",
    "plt.rc('xtick',labelsize=6); plt.rc('ytick',labelsize=6)\n",
    "%config InlineBackend.figure_format = 'retina'\n",
    "%matplotlib inline\n",
    "print (\"MuJoCo version:[%s]\"%(mujoco.__version__))"
   ]
  },
  {
   "attachments": {},
   "cell_type": "markdown",
   "id": "4f777719",
   "metadata": {},
   "source": [
    "### Parse `scene_husky_w_ur5_rg2_d435i.xml`"
   ]
  },
  {
   "cell_type": "code",
   "execution_count": 2,
   "id": "4659562d",
   "metadata": {
    "scrolled": true
   },
   "outputs": [
    {
     "name": "stdout",
     "output_type": "stream",
     "text": [
      "dt:[0.0020] HZ:[500]\n",
      "n_dof (=nv):[22]\n",
      "n_geom:[59]\n",
      "geom_names:['floor', None, None, None, None, None, None, None, None, None, None, None, None, None, None, None, None, None, None, None, None, None, None, None, None, None, None, None, None, None, None, None, None, None, None, None, None, None, None, None, None, None, None, None, None, None, None, None, None, None, None, None, None, None, None, None, None, None, None]\n",
      "n_body:[24]\n",
      "body_names:['world', 'base_husky', 'front_left_wheel_link', 'front_right_wheel_link', 'rear_left_wheel_link', 'rear_right_wheel_link', 'base_ur5e', 'shoulder_link', 'upper_arm_link', 'forearm_link', 'wrist_1_link', 'wrist_2_link', 'wrist_3_link', 'tcp_link', 'camera_mount', 'd435i', 'rg2_gripper_base_link', 'camera_center', 'rg2_gripper_finger1_finger_link', 'rg2_gripper_finger1_inner_knuckle_link', 'rg2_gripper_finger1_finger_tip_link', 'rg2_gripper_finger2_finger_link', 'rg2_gripper_finger2_inner_knuckle_link', 'rg2_gripper_finger2_finger_tip_link']\n",
      "n_joint:[17]\n",
      "joint_names:['base_husky_joint', 'front_left_wheel', 'front_right_wheel', 'rear_left_wheel', 'rear_right_wheel', 'shoulder_pan_joint', 'shoulder_lift_joint', 'elbow_joint', 'wrist_1_joint', 'wrist_2_joint', 'wrist_3_joint', 'gripper_finger1_joint', 'gripper_finger1_inner_knuckle_joint', 'gripper_finger1_finger_tip_joint', 'gripper_finger2_joint', 'gripper_finger2_inner_knuckle_joint', 'gripper_finger2_finger_tip_joint']\n",
      "joint_types:[0 3 3 3 3 3 3 3 3 3 3 3 3 3 3 3 3]\n",
      "joint_ranges:\n",
      "[[ 0.    0.  ]\n",
      " [ 0.    0.  ]\n",
      " [ 0.    0.  ]\n",
      " [ 0.    0.  ]\n",
      " [ 0.    0.  ]\n",
      " [ 0.    0.  ]\n",
      " [ 0.    0.  ]\n",
      " [-3.14  3.14]\n",
      " [ 0.    0.  ]\n",
      " [ 0.    0.  ]\n",
      " [ 0.    0.  ]\n",
      " [-1.    0.  ]\n",
      " [-1.    0.  ]\n",
      " [-1.    1.  ]\n",
      " [ 0.    1.  ]\n",
      " [ 0.    1.  ]\n",
      " [-1.    1.  ]]\n",
      "n_rev_joint:[16]\n",
      "rev_joint_idxs:[ 1  2  3  4  5  6  7  8  9 10 11 12 13 14 15 16]\n",
      "rev_joint_names:['front_left_wheel', 'front_right_wheel', 'rear_left_wheel', 'rear_right_wheel', 'shoulder_pan_joint', 'shoulder_lift_joint', 'elbow_joint', 'wrist_1_joint', 'wrist_2_joint', 'wrist_3_joint', 'gripper_finger1_joint', 'gripper_finger1_inner_knuckle_joint', 'gripper_finger1_finger_tip_joint', 'gripper_finger2_joint', 'gripper_finger2_inner_knuckle_joint', 'gripper_finger2_finger_tip_joint']\n",
      "rev_joint_mins:[ 0.    0.    0.    0.    0.    0.   -3.14  0.    0.    0.   -1.   -1.   -1.    0.    0.   -1.  ]\n",
      "rev_joint_maxs:[0.   0.   0.   0.   0.   0.   3.14 0.   0.   0.   0.   0.   1.   1.   1.   1.  ]\n",
      "rev_joint_ranges:[0.   0.   0.   0.   0.   0.   6.28 0.   0.   0.   1.   1.   2.   1.   1.   2.  ]\n",
      "n_pri_joint:[0]\n",
      "pri_joint_idxs:[]\n",
      "pri_joint_names:[]\n",
      "pri_joint_mins:[]\n",
      "pri_joint_maxs:[]\n",
      "pri_joint_ranges:[]\n",
      "n_ctrl:[11]\n",
      "ctrl_names:['front_left_actuator', 'front_right_actuator', 'rear_left_actuator', 'rear_right_actuator', 'shoulder_pan', 'shoulder_lift', 'elbow', 'wrist_1', 'wrist_2', 'wrist_3', 'gripper']\n",
      "ctrl_joint_idxs:[7, 8, 9, 10, 11, 12, 13, 14, 15, 16, 20]\n",
      "ctrl_joint_names:['front_left_wheel', 'front_right_wheel', 'rear_left_wheel', 'rear_right_wheel', 'shoulder_pan_joint', 'shoulder_lift_joint', 'elbow_joint', 'wrist_1_joint', 'wrist_2_joint', 'wrist_3_joint', 'gripper_finger2_joint']\n",
      "ctrl_qvel_idxs:[6, 7, 8, 9, 10, 11, 12, 13, 14, 15, 19]\n",
      "ctrl_ranges:\n",
      "[[-100.    100.  ]\n",
      " [-100.    100.  ]\n",
      " [-100.    100.  ]\n",
      " [-100.    100.  ]\n",
      " [  -6.28    6.28]\n",
      " [  -6.28    6.28]\n",
      " [  -3.14    3.14]\n",
      " [  -6.28    6.28]\n",
      " [  -6.28    6.28]\n",
      " [  -6.28    6.28]\n",
      " [   0.      1.  ]]\n",
      "n_sensor:[0]\n",
      "sensor_names:[]\n",
      "n_site:[1]\n",
      "site_names:['attachment_site']\n",
      "[Husky] parsed.\n"
     ]
    }
   ],
   "source": [
    "xml_path = '../../asset/husky/scene_husky_w_ur5_rg2_d435i.xml'\n",
    "env = MuJoCoParserClass(name='Husky',rel_xml_path=xml_path,VERBOSE=True)\n",
    "print (\"[%s] parsed.\"%(env.name))"
   ]
  },
  {
   "cell_type": "markdown",
   "id": "5ee05448",
   "metadata": {},
   "source": [
    "### Render"
   ]
  },
  {
   "cell_type": "code",
   "execution_count": 4,
   "id": "dfedc033",
   "metadata": {
    "scrolled": true
   },
   "outputs": [
    {
     "name": "stdout",
     "output_type": "stream",
     "text": [
      "Pressed ESC\n",
      "Quitting.\n",
      "Time:[4.55]sec. Done.\n"
     ]
    }
   ],
   "source": [
    "env.init_viewer(viewer_title='Husky',viewer_width=1200,viewer_height=800,\n",
    "                viewer_hide_menus=True)\n",
    "env.update_viewer(azimuth=107.08,distance=2.5,elevation=-27,lookat=[0.4,0.3,0.2],\n",
    "                  VIS_TRANSPARENT=False,VIS_CONTACTPOINT=True,\n",
    "                  contactwidth=0.1,contactheight=0.1,contactrgba=np.array([1,0,0,1]),\n",
    "                  VIS_JOINT=True,jointlength=0.5,jointwidth=0.1,jointrgba=[0.2,0.6,0.8,0.6])\n",
    "# Initial UR5e Pose\n",
    "init_ur_q = np.array([np.deg2rad(-90), np.deg2rad(-132.46), np.deg2rad(122.85), np.deg2rad(99.65), np.deg2rad(45), np.deg2rad(-90.02)])\n",
    "\n",
    "# Change controller gain\n",
    "for ctrl_name in env.ctrl_names:\n",
    "    kv = 1\n",
    "    # env.model.actuator(ctrl_name).gainprm[0] = kv\n",
    "    # env.model.actuator(ctrl_name).biasprm[2] = -kv\n",
    "env.reset()\n",
    "while (env.get_sim_time() < 100.0) and env.is_viewer_alive():\n",
    "    # Step\n",
    "    ctrl_husky = 5*np.array([-1,-1,-1,-1]) # rotate:[5,-5,5,-5] straight:[5,5,5,5]\n",
    "    ctrl_wholebody = ctrl_husky.tolist() + init_ur_q.tolist()\n",
    "    # env.step(ctrl=ctrl_husky, ctrl_idxs=[0,1,2,3])\n",
    "    env.step(ctrl=ctrl_wholebody, ctrl_idxs=[0,1,2,3,4,5,6,7,8,9])\n",
    "    # Do render\n",
    "    if env.loop_every(HZ=30) or (env.tick == 1):\n",
    "        # Update viewer information\n",
    "        p_base = env.get_p_body(body_name='base_husky')\n",
    "        env.update_viewer(lookat=p_base,CALL_MUJOCO_FUNC=False)\n",
    "        # Render contact information\n",
    "        PLOT_CONTACT = True\n",
    "        if PLOT_CONTACT:\n",
    "            p_contacts,f_contacts,geom1s,geom2s, _,_ = env.get_contact_info()\n",
    "            for (p_contact,f_contact,geom1,geom2) in zip(p_contacts,f_contacts,geom1s,geom2s):\n",
    "                f_norm = np.linalg.norm(f_contact)\n",
    "                f_uv = f_contact / (f_norm+1e-8)\n",
    "                f_len = 0.3 # f_norm*0.05\n",
    "                label = '' #'[%s]-[%s]'%(geom1,geom2)\n",
    "                # env.plot_arrow(p=p_contact,uv=f_uv,r_stem=0.01,len_arrow=f_len,rgba=[1,0,0,0.4],label='')\n",
    "                # env.plot_arrow(p=p_contact,uv=-f_uv,r_stem=0.01,len_arrow=f_len,rgba=[1,0,0,0.4],label='')\n",
    "                # env.plot_sphere(p=p_contact,r=0.0001,label=label)\n",
    "        env.plot_T(p=np.zeros(3),R=np.eye(3,3),PLOT_AXIS=True,axis_len=1.0,axis_width=0.01)\n",
    "        env.plot_body_T(body_name='base_husky',PLOT_AXIS=True,axis_len=0.1,axis_width=0.01)\n",
    "        env.plot_body_T(body_name='front_left_wheel_link',PLOT_AXIS=True,axis_len=0.1,axis_width=0.01)\n",
    "        env.plot_body_T(body_name='front_right_wheel_link',PLOT_AXIS=True,axis_len=0.1,axis_width=0.01)\n",
    "        env.plot_body_T(body_name='rear_left_wheel_link',PLOT_AXIS=True,axis_len=0.1,axis_width=0.01)\n",
    "        env.plot_body_T(body_name='rear_right_wheel_link',PLOT_AXIS=True,axis_len=0.1,axis_width=0.01)\n",
    "        env.plot_T(p=p_base+np.array([0,0,0.5]),R=np.eye(3,3),\n",
    "                   PLOT_AXIS=False,label='[%.2f]sec'%(env.get_sim_time()))\n",
    "        env.render()\n",
    "        \n",
    "# Close viewer\n",
    "env.close_viewer()\n",
    "print (\"Time:[%.2f]sec. Done.\"%(env.get_sim_time()))"
   ]
  },
  {
   "cell_type": "markdown",
   "id": "f7badd40",
   "metadata": {},
   "source": [
    "### Open interactive viewer"
   ]
  },
  {
   "cell_type": "code",
   "execution_count": 7,
   "id": "a002e6d8",
   "metadata": {},
   "outputs": [],
   "source": [
    "env.open_interactive_viewer()"
   ]
  },
  {
   "cell_type": "code",
   "execution_count": null,
   "id": "8d51146b",
   "metadata": {},
   "outputs": [],
   "source": []
  }
 ],
 "metadata": {
  "kernelspec": {
   "display_name": "Python 3 (ipykernel)",
   "language": "python",
   "name": "python3"
  },
  "language_info": {
   "codemirror_mode": {
    "name": "ipython",
    "version": 3
   },
   "file_extension": ".py",
   "mimetype": "text/x-python",
   "name": "python",
   "nbconvert_exporter": "python",
   "pygments_lexer": "ipython3",
   "version": "3.8.13"
  }
 },
 "nbformat": 4,
 "nbformat_minor": 5
}
