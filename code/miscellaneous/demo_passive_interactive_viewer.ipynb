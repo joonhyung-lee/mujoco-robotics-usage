{
 "cells": [
  {
   "attachments": {},
   "cell_type": "markdown",
   "metadata": {},
   "source": [
    "### Passive viewer"
   ]
  },
  {
   "cell_type": "code",
   "execution_count": 1,
   "metadata": {},
   "outputs": [
    {
     "name": "stdout",
     "output_type": "stream",
     "text": [
      "MuJoCo version:[2.3.4]\n"
     ]
    }
   ],
   "source": [
    "import mujoco\n",
    "import numpy as np\n",
    "import matplotlib.pyplot as plt\n",
    "import sys\n",
    "sys.path.append('../../')\n",
    "\n",
    "from utils.mujoco_parser import MuJoCoParserClass\n",
    "from utils.util import rpy2r,get_rotation_matrix_from_two_points\n",
    "np.set_printoptions(precision=2,suppress=True,linewidth=100)\n",
    "plt.rc('xtick',labelsize=6); plt.rc('ytick',labelsize=6)\n",
    "%config InlineBackend.figure_format = 'retina'\n",
    "%matplotlib inline\n",
    "print (\"MuJoCo version:[%s]\"%(mujoco.__version__))"
   ]
  },
  {
   "attachments": {},
   "cell_type": "markdown",
   "metadata": {},
   "source": [
    "### Parse `floor_sky`"
   ]
  },
  {
   "cell_type": "code",
   "execution_count": 3,
   "metadata": {},
   "outputs": [
    {
     "name": "stdout",
     "output_type": "stream",
     "text": [
      "dt:[0.0020] HZ:[500]\n",
      "n_dof (=nv):[0]\n",
      "n_geom:[1]\n",
      "geom_names:['floor']\n",
      "n_body:[1]\n",
      "body_names:['world']\n",
      "n_joint:[0]\n",
      "joint_names:[]\n",
      "joint_types:[]\n",
      "joint_ranges:\n",
      "[]\n",
      "n_rev_joint:[0]\n",
      "rev_joint_idxs:[]\n",
      "rev_joint_names:[]\n",
      "rev_joint_mins:[]\n",
      "rev_joint_maxs:[]\n",
      "rev_joint_ranges:[]\n",
      "n_pri_joint:[0]\n",
      "pri_joint_idxs:[]\n",
      "pri_joint_names:[]\n",
      "pri_joint_mins:[]\n",
      "pri_joint_maxs:[]\n",
      "pri_joint_ranges:[]\n",
      "n_ctrl:[0]\n",
      "ctrl_names:[]\n",
      "ctrl_joint_idxs:[]\n",
      "ctrl_joint_names:[]\n",
      "ctrl_qvel_idxs:[]\n",
      "ctrl_ranges:\n",
      "[]\n",
      "n_sensor:[0]\n",
      "sensor_names:[]\n",
      "n_site:[0]\n",
      "site_names:[]\n"
     ]
    }
   ],
   "source": [
    "xml_path = '../../asset/object/floor_sky.xml'\n",
    "env = MuJoCoParserClass(name='Floor',rel_xml_path=xml_path,VERBOSE=True)"
   ]
  },
  {
   "cell_type": "code",
   "execution_count": 9,
   "metadata": {},
   "outputs": [],
   "source": [
    "import time\n",
    "\n",
    "import mujoco\n",
    "import mujoco.viewer\n",
    "\n",
    "with mujoco.viewer.launch_passive(env.model, env.data) as viewer:\n",
    "  # Close the viewer automatically after 30 wall-seconds.\n",
    "  start = time.time()\n",
    "  while viewer.is_running() and time.time() - start < 30:\n",
    "    step_start = time.time()\n",
    "\n",
    "    # mj_step can be replaced with code that also evaluates\n",
    "    # a policy and applies a control signal before stepping the physics.\n",
    "    env.step()\n",
    "\n",
    "    # Example modification of a viewer option: toggle contact points every two seconds.\n",
    "    with viewer.lock():\n",
    "      viewer.opt.flags[mujoco.mjtVisFlag.mjVIS_CONTACTPOINT] = int(d.time % 2)\n",
    "\n",
    "    # Pick up changes to the physics state, apply perturbations, update options from GUI.\n",
    "    viewer.sync()\n",
    "\n",
    "    # Rudimentary time keeping, will drift relative to wall clock.\n",
    "    time_until_next_step = m.opt.timestep - (time.time() - step_start)\n",
    "    if time_until_next_step > 0:\n",
    "      time.sleep(time_until_next_step)"
   ]
  },
  {
   "cell_type": "code",
   "execution_count": null,
   "metadata": {},
   "outputs": [],
   "source": []
  }
 ],
 "metadata": {
  "kernelspec": {
   "display_name": "Python 3",
   "language": "python",
   "name": "python3"
  },
  "language_info": {
   "codemirror_mode": {
    "name": "ipython",
    "version": 3
   },
   "file_extension": ".py",
   "mimetype": "text/x-python",
   "name": "python",
   "nbconvert_exporter": "python",
   "pygments_lexer": "ipython3",
   "version": "3.8.10"
  },
  "orig_nbformat": 4
 },
 "nbformat": 4,
 "nbformat_minor": 2
}
